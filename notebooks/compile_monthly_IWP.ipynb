{
 "cells": [
  {
   "cell_type": "code",
   "execution_count": 1,
   "id": "asian-abraham",
   "metadata": {},
   "outputs": [
    {
     "name": "stdout",
     "output_type": "stream",
     "text": [
      "0\n",
      "1\n",
      "2\n",
      "3\n",
      "4\n",
      "5\n"
     ]
    },
    {
     "ename": "KeyboardInterrupt",
     "evalue": "",
     "output_type": "error",
     "traceback": [
      "\u001b[0;31m---------------------------------------------------------------------------\u001b[0m",
      "\u001b[0;31mKeyboardInterrupt\u001b[0m                         Traceback (most recent call last)",
      "\u001b[0;32m<ipython-input-1-50fa1963e970>\u001b[0m in \u001b[0;36m<module>\u001b[0;34m\u001b[0m\n\u001b[1;32m     78\u001b[0m                              \u001b[0minputs\u001b[0m\u001b[0;34m,\u001b[0m \u001b[0moutputs\u001b[0m\u001b[0;34m,\u001b[0m\u001b[0;34m\u001b[0m\u001b[0;34m\u001b[0m\u001b[0m\n\u001b[1;32m     79\u001b[0m                              \u001b[0mbatch_size\u001b[0m \u001b[0;34m=\u001b[0m \u001b[0mbatchSize\u001b[0m\u001b[0;34m,\u001b[0m\u001b[0;34m\u001b[0m\u001b[0;34m\u001b[0m\u001b[0m\n\u001b[0;32m---> 80\u001b[0;31m                              latlims = latlims)\n\u001b[0m\u001b[1;32m     81\u001b[0m \u001b[0;34m\u001b[0m\u001b[0m\n\u001b[1;32m     82\u001b[0m     \u001b[0;31m#lat = dataset.lat.data\u001b[0m\u001b[0;34m\u001b[0m\u001b[0;34m\u001b[0m\u001b[0;34m\u001b[0m\u001b[0m\n",
      "\u001b[0;32m~/git/IWC2TB/iwc2tb/GMI/gmiSatData.py\u001b[0m in \u001b[0;36m__init__\u001b[0;34m(self, gmi, inputs, outputs, batch_size, latlims, normalize, log)\u001b[0m\n\u001b[1;32m     52\u001b[0m         \u001b[0mself\u001b[0m\u001b[0;34m.\u001b[0m\u001b[0mwvp\u001b[0m   \u001b[0;34m=\u001b[0m \u001b[0mself\u001b[0m\u001b[0;34m.\u001b[0m\u001b[0mgmi\u001b[0m\u001b[0;34m.\u001b[0m\u001b[0mwvp\u001b[0m\u001b[0;34m\u001b[0m\u001b[0;34m\u001b[0m\u001b[0m\n\u001b[1;32m     53\u001b[0m         \u001b[0mself\u001b[0m\u001b[0;34m.\u001b[0m\u001b[0mlst\u001b[0m   \u001b[0;34m=\u001b[0m \u001b[0mself\u001b[0m\u001b[0;34m.\u001b[0m\u001b[0mgmi\u001b[0m\u001b[0;34m.\u001b[0m\u001b[0mlst\u001b[0m\u001b[0;34m\u001b[0m\u001b[0;34m\u001b[0m\u001b[0m\n\u001b[0;32m---> 54\u001b[0;31m         \u001b[0mself\u001b[0m\u001b[0;34m.\u001b[0m\u001b[0mz0\u001b[0m    \u001b[0;34m=\u001b[0m \u001b[0mself\u001b[0m\u001b[0;34m.\u001b[0m\u001b[0mgmi\u001b[0m\u001b[0;34m.\u001b[0m\u001b[0mz0\u001b[0m\u001b[0;34m\u001b[0m\u001b[0;34m\u001b[0m\u001b[0m\n\u001b[0m\u001b[1;32m     55\u001b[0m         \u001b[0mstype\u001b[0m      \u001b[0;34m=\u001b[0m \u001b[0mlsm_gmi2arts\u001b[0m\u001b[0;34m(\u001b[0m\u001b[0mself\u001b[0m\u001b[0;34m.\u001b[0m\u001b[0mlsm\u001b[0m\u001b[0;34m)\u001b[0m\u001b[0;34m\u001b[0m\u001b[0;34m\u001b[0m\u001b[0m\n\u001b[1;32m     56\u001b[0m \u001b[0;34m\u001b[0m\u001b[0m\n",
      "\u001b[0;32m~/git/IWC2TB/iwc2tb/GMI/GMI_SatData.py\u001b[0m in \u001b[0;36mz0\u001b[0;34m(self)\u001b[0m\n\u001b[1;32m    295\u001b[0m \u001b[0;34m\u001b[0m\u001b[0m\n\u001b[1;32m    296\u001b[0m         \u001b[0mpts\u001b[0m \u001b[0;34m=\u001b[0m \u001b[0;34m[\u001b[0m\u001b[0;34m[\u001b[0m\u001b[0mlat\u001b[0m\u001b[0;34m[\u001b[0m\u001b[0mj\u001b[0m\u001b[0;34m]\u001b[0m\u001b[0;34m,\u001b[0m \u001b[0mlon\u001b[0m\u001b[0;34m[\u001b[0m\u001b[0mj\u001b[0m\u001b[0;34m]\u001b[0m\u001b[0;34m]\u001b[0m \u001b[0;32mfor\u001b[0m \u001b[0mj\u001b[0m \u001b[0;32min\u001b[0m \u001b[0mrange\u001b[0m\u001b[0;34m(\u001b[0m\u001b[0mlen\u001b[0m\u001b[0;34m(\u001b[0m\u001b[0mlat\u001b[0m\u001b[0;34m)\u001b[0m\u001b[0;34m)\u001b[0m\u001b[0;34m]\u001b[0m\u001b[0;34m\u001b[0m\u001b[0;34m\u001b[0m\u001b[0m\n\u001b[0;32m--> 297\u001b[0;31m         \u001b[0mgrid_z\u001b[0m \u001b[0;34m=\u001b[0m \u001b[0mmy_interpolating_function\u001b[0m\u001b[0;34m(\u001b[0m\u001b[0mpts\u001b[0m\u001b[0;34m)\u001b[0m\u001b[0;34m\u001b[0m\u001b[0;34m\u001b[0m\u001b[0m\n\u001b[0m\u001b[1;32m    298\u001b[0m \u001b[0;34m\u001b[0m\u001b[0m\n\u001b[1;32m    299\u001b[0m \u001b[0;34m\u001b[0m\u001b[0m\n",
      "\u001b[0;32m~/anaconda3/lib/python3.7/site-packages/scipy/interpolate/interpolate.py\u001b[0m in \u001b[0;36m__call__\u001b[0;34m(self, xi, method)\u001b[0m\n\u001b[1;32m   2494\u001b[0m \u001b[0;34m\u001b[0m\u001b[0m\n\u001b[1;32m   2495\u001b[0m         \u001b[0mndim\u001b[0m \u001b[0;34m=\u001b[0m \u001b[0mlen\u001b[0m\u001b[0;34m(\u001b[0m\u001b[0mself\u001b[0m\u001b[0;34m.\u001b[0m\u001b[0mgrid\u001b[0m\u001b[0;34m)\u001b[0m\u001b[0;34m\u001b[0m\u001b[0;34m\u001b[0m\u001b[0m\n\u001b[0;32m-> 2496\u001b[0;31m         \u001b[0mxi\u001b[0m \u001b[0;34m=\u001b[0m \u001b[0m_ndim_coords_from_arrays\u001b[0m\u001b[0;34m(\u001b[0m\u001b[0mxi\u001b[0m\u001b[0;34m,\u001b[0m \u001b[0mndim\u001b[0m\u001b[0;34m=\u001b[0m\u001b[0mndim\u001b[0m\u001b[0;34m)\u001b[0m\u001b[0;34m\u001b[0m\u001b[0;34m\u001b[0m\u001b[0m\n\u001b[0m\u001b[1;32m   2497\u001b[0m         \u001b[0;32mif\u001b[0m \u001b[0mxi\u001b[0m\u001b[0;34m.\u001b[0m\u001b[0mshape\u001b[0m\u001b[0;34m[\u001b[0m\u001b[0;34m-\u001b[0m\u001b[0;36m1\u001b[0m\u001b[0;34m]\u001b[0m \u001b[0;34m!=\u001b[0m \u001b[0mlen\u001b[0m\u001b[0;34m(\u001b[0m\u001b[0mself\u001b[0m\u001b[0;34m.\u001b[0m\u001b[0mgrid\u001b[0m\u001b[0;34m)\u001b[0m\u001b[0;34m:\u001b[0m\u001b[0;34m\u001b[0m\u001b[0;34m\u001b[0m\u001b[0m\n\u001b[1;32m   2498\u001b[0m             raise ValueError(\"The requested sample points xi have dimension \"\n",
      "\u001b[0;32minterpnd.pyx\u001b[0m in \u001b[0;36mscipy.interpolate.interpnd._ndim_coords_from_arrays\u001b[0;34m()\u001b[0m\n",
      "\u001b[0;32minterpnd.pyx\u001b[0m in \u001b[0;36mscipy.interpolate.interpnd._ndim_coords_from_arrays\u001b[0;34m()\u001b[0m\n",
      "\u001b[0;32m~/anaconda3/lib/python3.7/site-packages/numpy/core/_asarray.py\u001b[0m in \u001b[0;36masanyarray\u001b[0;34m(a, dtype, order)\u001b[0m\n\u001b[1;32m    134\u001b[0m \u001b[0;34m\u001b[0m\u001b[0m\n\u001b[1;32m    135\u001b[0m     \"\"\"\n\u001b[0;32m--> 136\u001b[0;31m     \u001b[0;32mreturn\u001b[0m \u001b[0marray\u001b[0m\u001b[0;34m(\u001b[0m\u001b[0ma\u001b[0m\u001b[0;34m,\u001b[0m \u001b[0mdtype\u001b[0m\u001b[0;34m,\u001b[0m \u001b[0mcopy\u001b[0m\u001b[0;34m=\u001b[0m\u001b[0;32mFalse\u001b[0m\u001b[0;34m,\u001b[0m \u001b[0morder\u001b[0m\u001b[0;34m=\u001b[0m\u001b[0morder\u001b[0m\u001b[0;34m,\u001b[0m \u001b[0msubok\u001b[0m\u001b[0;34m=\u001b[0m\u001b[0;32mTrue\u001b[0m\u001b[0;34m)\u001b[0m\u001b[0;34m\u001b[0m\u001b[0;34m\u001b[0m\u001b[0m\n\u001b[0m\u001b[1;32m    137\u001b[0m \u001b[0;34m\u001b[0m\u001b[0m\n\u001b[1;32m    138\u001b[0m \u001b[0;34m\u001b[0m\u001b[0m\n",
      "\u001b[0;31mKeyboardInterrupt\u001b[0m: "
     ]
    }
   ],
   "source": [
    "def check_high_iwp(iwp_mean):\n",
    "    \n",
    "    a = iwp_mean > 120\n",
    "    if np.sum(a) > 0:\n",
    "        return True\n",
    "    else:\n",
    "        return False\n",
    "    \n",
    "import xarray\n",
    "import numpy as np\n",
    "import os\n",
    "import glob\n",
    "import matplotlib.pyplot as plt\n",
    "import matplotlib.colors as colors\n",
    "from matplotlib import cm\n",
    "from iwc2tb.GMI.GMI_SatData import GMI_Sat\n",
    "from iwc2tb.GMI.gmiSatData import gmiSatData\n",
    "import pickle\n",
    "import time\n",
    "#time.sleep(60 * 60 * 3)\n",
    "\n",
    "\n",
    "#---------------------------------\n",
    "year  = \"2020\"\n",
    "month = \"01\"\n",
    "#---------------------------------\n",
    "\n",
    "path = os.path.expanduser(\"~/Dendrite/UserAreas/Kaur/IWP/lpa_pr1\")\n",
    "files = glob.glob(os.path.join(path, \"1B*202001*nc\"))\n",
    "\n",
    "gpath = os.path.expanduser(os.path.join(\"~/Dendrite/SatData/GMI/L1B/\", year, month))\n",
    "gfiles = glob.glob(os.path.join(gpath, \"*\", \"*HDF5\"))\n",
    "\n",
    "inputs             = [\"ta\", \"t2m\",  \"wvp\", \"lat\",\"z0\", \"stype\"]\n",
    "outputs            = \"iwp\"\n",
    "batchSize          = 4\n",
    "latlims            = [0, 65]\n",
    "\n",
    "\n",
    "LAT = np.zeros([1, 221])\n",
    "LON = np.zeros([1, 221])\n",
    "IWP = np.zeros([1, 221])\n",
    "IWP_mean = np.zeros([1, 221])\n",
    "LSM = np.zeros([1, 221])\n",
    "IWP0 = np.zeros([1, 221])\n",
    "Z0 = np.zeros([1, 221])\n",
    "WVP = np.zeros([1, 221])\n",
    "TB   = np.zeros([1, 221, 4])\n",
    "\n",
    "for ix, file in enumerate(files[:300]):\n",
    "    print (ix)\n",
    "#    print(file)\n",
    "#    print(gfiles[ix])\n",
    "    \n",
    "    try:\n",
    "        gmisat = GMI_Sat(gfiles[ix])\n",
    "    except:\n",
    "        print(\"skipping this index, doing next file\")\n",
    "        continue\n",
    "        \n",
    "\n",
    "    \n",
    "    \n",
    "    dataset = xarray.open_dataset(file)\n",
    "    \n",
    "    LAT = np.concatenate([LAT, dataset.lat.data], axis = 0)\n",
    "    LON = np.concatenate([LON, dataset.lon.data], axis = 0)\n",
    "    IWP_mean = np.concatenate([IWP_mean, dataset.iwp_mean.data], axis = 0)\n",
    "    IWP = np.concatenate([IWP, dataset.iwp.data], axis = 0)\n",
    "    LSM = np.concatenate([LSM, dataset.stype.data], axis = 0)\n",
    "\n",
    "    \n",
    "    \n",
    "    \n",
    "    \n",
    "\n",
    "    validation_data    = gmiSatData(gmisat, \n",
    "                             inputs, outputs,\n",
    "                             batch_size = batchSize,\n",
    "                             latlims = latlims)\n",
    "    \n",
    "    #lat = dataset.lat.data\n",
    "    #lon = dataset.lon.data\n",
    "    \n",
    "    #lamask  = (lat > -65) & (lat < 65)\n",
    "    #lomask  = (lon > 0) & (lon < 360)\n",
    "    #dmask   = np.logical_and(lamask, lomask)\n",
    "    #lsmmask = dataset.stype.data == 2\n",
    "    \n",
    "    #mask    = np.logical_and(lsmmask, dmask)\n",
    "    #mask = dmask\n",
    "    \n",
    "    #if np.sum(mask) > 0:\n",
    "        #IWP_mean  = np.concatenate([IWP_mean, dataset.iwp_mean.data[mask]], axis = 0)\n",
    "    #TB   = np.concatenate([TB, validation_data.x[:, :, :4]], axis = 0)\n",
    "        #Z0   = np.concatenate([Z0, validation_data.x[:, :, 7][mask]], axis = 0)\n",
    "        #WVP  = np.concatenate([WVP, validation_data.x[:, :, 5][mask]], axis = 0)\n",
    "    #else:\n",
    "    #    continue\n",
    "    \n",
    "\n",
    "\n",
    "\n"
   ]
  },
  {
   "cell_type": "code",
   "execution_count": null,
   "id": "addressed-friendly",
   "metadata": {},
   "outputs": [],
   "source": [
    "validation_data.x.shape"
   ]
  },
  {
   "cell_type": "code",
   "execution_count": null,
   "id": "rapid-declaration",
   "metadata": {},
   "outputs": [],
   "source": [
    "d1 = xarray.Dataset({\n",
    "    \"iwp_mean\": ([\"pixels\", \"scans\"], IWP_mean),\n",
    "    #\"iwp0\": ([\"pixels\", \"scans\"], IWP0),\n",
    "    \"lsm\": ([\"pixels\", \"scans\"], LSM)} ,   \n",
    "coords={\n",
    "    \"lon\": ([\"pixels\", \"scans\"], LON),\n",
    "    \"lat\": ([\"pixels\", \"scans\"], LAT),\n",
    "})\n",
    "\n",
    "d2 = xarray.Dataset({\n",
    "    \"tb\": ([\"pixels\", \"scans\", \"channels\"], TB)\n",
    "})"
   ]
  },
  {
   "cell_type": "code",
   "execution_count": null,
   "id": "champion-judges",
   "metadata": {},
   "outputs": [],
   "source": [
    "d1"
   ]
  },
  {
   "cell_type": "code",
   "execution_count": null,
   "id": "julian-peter",
   "metadata": {},
   "outputs": [],
   "source": [
    "d2"
   ]
  },
  {
   "cell_type": "code",
   "execution_count": null,
   "id": "pediatric-breed",
   "metadata": {},
   "outputs": [],
   "source": [
    "d2\n",
    "\n",
    "outfile = os.path.expanduser(\"~/Dendrite/UserAreas/Kaur/jan2020_tb_lpa.nc\")\n",
    "d2.to_netcdf(outfile, mode = \"w\")"
   ]
  },
  {
   "cell_type": "code",
   "execution_count": null,
   "id": "universal-darkness",
   "metadata": {},
   "outputs": [],
   "source": [
    "outfile = os.path.expanduser(\"~/Dendrite/UserAreas/Kaur/jan2020_IWP_lpa_pr1.nc\")\n",
    "d1.to_netcdf(outfile, mode = \"w\")"
   ]
  },
  {
   "cell_type": "code",
   "execution_count": null,
   "id": "binding-regulation",
   "metadata": {},
   "outputs": [],
   "source": [
    "def histogram(iwp, bins):\n",
    "    \n",
    "    hist, _ = np.histogram(iwp, bins)\n",
    "    \n",
    "    return hist/np.sum(hist)\n"
   ]
  },
  {
   "cell_type": "code",
   "execution_count": null,
   "id": "supreme-mauritius",
   "metadata": {},
   "outputs": [],
   "source": [
    "bins = np.array([0.0,.0001,.00025,.0005,0.001,.0025,.005,.01,.025,.05,.1,.25,\n",
    "                 .5,1, 2, 3, 4, 5, 6, 8, 10, 12, 16, 20, 24, 28, 32, 50])\n",
    "    \n",
    "bin_center = 0.5 * (bins[1:] + bins[:-1])   \n",
    "latlims = [0, 30]\n",
    "glat = d.lat.data\n",
    "\n",
    "gmask = np.logical_and(np.abs(glat) >= latlims[0] , np.abs(glat) <= latlims[1])\n",
    "\n",
    "\n",
    "ghist = histogram(d.iwp_mean.data[gmask], bins)\n",
    "\n"
   ]
  },
  {
   "cell_type": "code",
   "execution_count": null,
   "id": "potential-popularity",
   "metadata": {},
   "outputs": [],
   "source": [
    "fig, ax = plt.subplots(1, 1, figsize = [8, 8])\n",
    "ax.plot( bin_center, ghist, label = \"adam_cosine\")\n",
    "\n",
    "\n",
    "ax.set_yscale(\"log\")\n",
    "ax.set_xscale(\"log\")\n",
    "ax.legend()"
   ]
  },
  {
   "cell_type": "code",
   "execution_count": null,
   "id": "naughty-demonstration",
   "metadata": {},
   "outputs": [],
   "source": [
    "def zonal_mean(lat, iwp, latbins):\n",
    "    \n",
    "\n",
    "    bins     = np.digitize(lat, latbins)\n",
    "    \n",
    "    nbins    = np.bincount(bins)\n",
    "    iwp_mean = np.bincount(bins, iwp)\n",
    "    \n",
    "    return iwp_mean, nbins"
   ]
  },
  {
   "cell_type": "code",
   "execution_count": null,
   "id": "greenhouse-soccer",
   "metadata": {},
   "outputs": [],
   "source": [
    "latbins = np.arange(-65, 66, 1.5)\n",
    "\n",
    "#giwp = a.iwp_mean.data\n",
    "giwp1 = d.iwp_mean.data\n",
    "nanmask = giwp1 > -9000\n",
    "#ziwp, ziwpc = zonal_mean(glat[nanmask], giwp[nanmask], latbins)\n",
    "ziwp1, ziwpc1 = zonal_mean(glat[nanmask], giwp1[nanmask], latbins)\n",
    "\n",
    "#plt.plot(ziwp[:-1]/ziwpc[:-1],latbins, 'b-',  label = \"adam cosine\")\n",
    "plt.plot(ziwp1[:-1]/ziwpc1[:-1],latbins, 'r--',  label = \"adam\")\n",
    "plt.legend()"
   ]
  },
  {
   "cell_type": "code",
   "execution_count": null,
   "id": "outdoor-mistake",
   "metadata": {},
   "outputs": [],
   "source": []
  },
  {
   "cell_type": "code",
   "execution_count": null,
   "id": "armed-story",
   "metadata": {},
   "outputs": [],
   "source": []
  }
 ],
 "metadata": {
  "kernelspec": {
   "display_name": "Python 3",
   "language": "python",
   "name": "python3"
  },
  "language_info": {
   "codemirror_mode": {
    "name": "ipython",
    "version": 3
   },
   "file_extension": ".py",
   "mimetype": "text/x-python",
   "name": "python",
   "nbconvert_exporter": "python",
   "pygments_lexer": "ipython3",
   "version": "3.7.10"
  }
 },
 "nbformat": 4,
 "nbformat_minor": 5
}

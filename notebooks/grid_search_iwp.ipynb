{
 "cells": [
  {
   "cell_type": "markdown",
   "id": "processed-stations",
   "metadata": {},
   "source": [
    "## Notebook to run gridsearch for best hyperparameter combination"
   ]
  },
  {
   "cell_type": "code",
   "execution_count": 1,
   "id": "funky-outdoors",
   "metadata": {},
   "outputs": [],
   "source": [
    "%load_ext autoreload\n",
    "%autoreload 2\n",
    "%matplotlib inline\n",
    "import ipywidgets as w\n",
    "import matplotlib.pyplot as plt\n",
    "import numpy as np\n",
    "import netCDF4\n",
    "from matplotlib.ticker import (MultipleLocator, FormatStrFormatter,\n",
    "                               AutoMinorLocator)\n",
    "from torch.utils.data import DataLoader, random_split\n",
    "from iwc2tb.GMI.gmiData import gmiData\n",
    "import os\n",
    "\n",
    "from typhon.retrieval.qrnn import set_backend, QRNN\n",
    "set_backend(\"pytorch\")"
   ]
  },
  {
   "cell_type": "code",
   "execution_count": 2,
   "id": "charged-instruction",
   "metadata": {},
   "outputs": [],
   "source": [
    "def quantile_loss(y_pre, y, quantiles):\n",
    "    loss = 0\n",
    "    for i in range(len(quantiles)):\n",
    "        dy = y_pre[:, 3] - y\n",
    "        qs = quantiles[i]\n",
    "        l = np.where(dy >= 0.0, \n",
    "                        (1.0 - qs) * abs(dy),\n",
    "                        (qs) * abs(dy))\n",
    "        loss += l.mean()\n",
    "    return loss.mean() "
   ]
  },
  {
   "cell_type": "markdown",
   "id": "conditional-salon",
   "metadata": {},
   "source": [
    "### set hyperparameters"
   ]
  },
  {
   "cell_type": "code",
   "execution_count": 3,
   "id": "specialized-shooting",
   "metadata": {},
   "outputs": [],
   "source": [
    "#quantiles        = np.array([0.002, 0.03, 0.16, 0.5, 0.84, 0.97, 0.998])\n",
    "quantiles         = np.arange(0.05, 1, 0.05)\n",
    "\n",
    "batchSize         = 256\n",
    "\n",
    "depth             = 4\n",
    "width             = 256\n",
    "convergence_epoch = 5\n",
    "maximum_epoch     = 60\n",
    "\n",
    "inputs            = ['ta', 't0', 'lat', 'stype']\n",
    "ninputs            = 7\n",
    "\n",
    "inChannels = np.array(['166.5V', '166.5H', '183+-3', '183+-7'], dtype=object)"
   ]
  },
  {
   "cell_type": "markdown",
   "id": "martial-corpus",
   "metadata": {},
   "source": [
    "## training"
   ]
  },
  {
   "cell_type": "code",
   "execution_count": 4,
   "id": "numeric-semester",
   "metadata": {},
   "outputs": [],
   "source": [
    "def train(depth, width, batchSize, convergence_epoch, maximum_epoch, training_data, validation_data):\n",
    "        qrnn = QRNN(ninputs, quantiles, (depth, width , \"relu\"))\n",
    "        for lr in [  0.01, 0.001, 0.0001]:\n",
    "            print (\"NEW LEARNING RATE\")\n",
    "            results = qrnn.train(\n",
    "                training_data,\n",
    "                validation_data,\n",
    "                batch_size=batchSize,\n",
    "                momentum = 0.9,\n",
    "                sigma_noise=None,\n",
    "                initial_learning_rate= lr ,\n",
    "                maximum_epochs=maximum_epoch,\n",
    "                convergence_epochs= convergence_epoch,    \n",
    "                gpu=True)\n",
    "\n",
    "        return results, qrnn\n",
    "\n"
   ]
  },
  {
   "cell_type": "markdown",
   "id": "latin-throat",
   "metadata": {},
   "source": [
    "### read training data"
   ]
  },
  {
   "cell_type": "code",
   "execution_count": 5,
   "id": "returning-bibliography",
   "metadata": {},
   "outputs": [
    {
     "name": "stdout",
     "output_type": "stream",
     "text": [
      "ta\n",
      "t0\n",
      "lat\n",
      "stype\n",
      "minimum 0.0\n"
     ]
    }
   ],
   "source": [
    "data = gmiData(os.path.expanduser(\"~/Dendrite/Projects/IWP/GMI/training_data/TB_GMI_train.nc\"), \n",
    "               inputs, latlims = [45, 65],\n",
    "               batch_size = batchSize, log = False)  \n",
    "\n",
    "n = len(data)\n",
    "n_train = int(0.9 * n)\n",
    "n_val = n - n_train\n",
    "\n",
    "training_data, validation_data = random_split(data, [n_train, n_val])\n",
    "results = []"
   ]
  },
  {
   "cell_type": "markdown",
   "id": "abandoned-moses",
   "metadata": {},
   "source": [
    "### start training"
   ]
  },
  {
   "cell_type": "code",
   "execution_count": 6,
   "id": "heard-shareware",
   "metadata": {},
   "outputs": [],
   "source": [
    "epochs     = [5, 10, 15]\n",
    "nn_depths  = [ 4, 5, 6]\n",
    "nn_widths  = [ 128, 256, 512]"
   ]
  },
  {
   "cell_type": "code",
   "execution_count": null,
   "id": "designing-graham",
   "metadata": {},
   "outputs": [
    {
     "name": "stdout",
     "output_type": "stream",
     "text": [
      "NEW LEARNING RATE\n",
      "Epoch 0 / 60: Training error: 0.054, Validation error: 0.051, Learning rate: 0.01000\n",
      "Epoch 1 / 60: Training error: 0.052, Validation error: 0.051, Learning rate: 0.01000\n",
      "Epoch 2 / 60: Training error: 0.051, Validation error: 0.049, Learning rate: 0.01000\n",
      "Epoch 3 / 60: Training error: 0.048, Validation error: 0.046, Learning rate: 0.01000\n",
      "Epoch 4 / 60: Training error: 0.044, Validation error: 0.041, Learning rate: 0.01000\n",
      "Epoch 5 / 60: Training error: 0.037, Validation error: 0.033, Learning rate: 0.01000\n",
      "Epoch 6 / 60: Training error: 0.030, Validation error: 0.028, Learning rate: 0.01000\n",
      "Epoch 7 / 60: Training error: 0.027, Validation error: 0.027, Learning rate: 0.01000\n",
      "Epoch 8 / 60: Training error: 0.026, Validation error: 0.026, Learning rate: 0.01000\n",
      "Epoch 9 / 60: Training error: 0.025, Validation error: 0.025, Learning rate: 0.01000\n",
      "Epoch 10 / 60: Training error: 0.025, Validation error: 0.024, Learning rate: 0.01000\n",
      "Epoch 11 / 60: Training error: 0.024, Validation error: 0.024, Learning rate: 0.01000\n",
      "Epoch 12 / 60: Training error: 0.024, Validation error: 0.023, Learning rate: 0.01000\n",
      "Epoch 13 / 60: Training error: 0.023, Validation error: 0.023, Learning rate: 0.01000\n",
      "Epoch 14 / 60: Training error: 0.023, Validation error: 0.023, Learning rate: 0.01000\n",
      "Epoch 15 / 60: Training error: 0.023, Validation error: 0.022, Learning rate: 0.01000\n",
      "Epoch 16 / 60: Training error: 0.023, Validation error: 0.022, Learning rate: 0.01000\n",
      "Epoch 17 / 60: Training error: 0.022, Validation error: 0.022, Learning rate: 0.01000\n",
      "Epoch 18 / 60: Training error: 0.022, Validation error: 0.022, Learning rate: 0.01000\n",
      "Epoch 19 / 60: Training error: 0.022, Validation error: 0.022, Learning rate: 0.01000\n",
      "Epoch 20 / 60: Training error: 0.021, Validation error: 0.022, Learning rate: 0.01000\n",
      "Epoch 21 / 60: Training error: 0.022, Validation error: 0.021, Learning rate: 0.01000\n",
      "Epoch 22 / 60: Training error: 0.021, Validation error: 0.021, Learning rate: 0.01000\n",
      "Epoch 23 / 60: Training error: 0.021, Validation error: 0.022, Learning rate: 0.01000\n",
      "Epoch 24 / 60: Training error: 0.021, Validation error: 0.021, Learning rate: 0.01000\n",
      "Epoch 25 / 60: Training error: 0.021, Validation error: 0.021, Learning rate: 0.01000\n",
      "Epoch 26 / 60: Training error: 0.021, Validation error: 0.020, Learning rate: 0.01000\n",
      "Epoch 27 / 60: Training error: 0.021, Validation error: 0.020, Learning rate: 0.01000\n",
      "Epoch 28 / 60: Training error: 0.021, Validation error: 0.020, Learning rate: 0.01000\n",
      "Epoch 29 / 60: Training error: 0.021, Validation error: 0.021, Learning rate: 0.01000\n",
      "Epoch 30 / 60: Training error: 0.020, Validation error: 0.020, Learning rate: 0.01000\n",
      "Epoch 31 / 60: Training error: 0.020, Validation error: 0.020, Learning rate: 0.01000\n",
      "Epoch 32 / 60: Training error: 0.020, Validation error: 0.020, Learning rate: 0.01000\n",
      "Epoch 33 / 60: Training error: 0.020, Validation error: 0.020, Learning rate: 0.01000\n",
      "Epoch 34 / 60: Training error: 0.020, Validation error: 0.020, Learning rate: 0.01000\n",
      "Epoch 35 / 60: Training error: 0.020, Validation error: 0.021, Learning rate: 0.01000\n",
      "Epoch 36 / 60: Training error: 0.020, Validation error: 0.020, Learning rate: 0.01000\n",
      "Epoch 37 / 60: Training error: 0.020, Validation error: 0.020, Learning rate: 0.01000\n",
      "Epoch 38 / 60: Training error: 0.020, Validation error: 0.020, Learning rate: 0.01000\n",
      "Epoch 39 / 60: Training error: 0.020, Validation error: 0.020, Learning rate: 0.01000\n",
      "Epoch 40 / 60: Training error: 0.020, Validation error: 0.020, Learning rate: 0.00500\n",
      "Epoch 41 / 60: Training error: 0.020, Validation error: 0.020, Learning rate: 0.00500\n",
      "Epoch 42 / 60: Training error: 0.020, Validation error: 0.019, Learning rate: 0.00500\n",
      "Epoch 43 / 60: Training error: 0.020, Validation error: 0.020, Learning rate: 0.00500\n",
      "Epoch 44 / 60: Training error: 0.020, Validation error: 0.020, Learning rate: 0.00500\n",
      "Epoch 45 / 60: Training error: 0.020, Validation error: 0.020, Learning rate: 0.00500\n",
      "Epoch 46 / 60: Training error: 0.020, Validation error: 0.020, Learning rate: 0.00500\n",
      "Epoch 47 / 60: Training error: 0.020, Validation error: 0.020, Learning rate: 0.00500\n",
      "Epoch 48 / 60: Training error: 0.020, Validation error: 0.020, Learning rate: 0.00500\n",
      "Epoch 49 / 60: Training error: 0.020, Validation error: 0.020, Learning rate: 0.00250\n",
      "Epoch 50 / 60: Training error: 0.020, Validation error: 0.019, Learning rate: 0.00250\n",
      "Epoch 51 / 60: Training error: 0.020, Validation error: 0.020, Learning rate: 0.00250\n",
      "Epoch 52 / 60: Training error: 0.020, Validation error: 0.019, Learning rate: 0.00250\n",
      "Epoch 53 / 60: Training error: 0.020, Validation error: 0.020, Learning rate: 0.00250\n",
      "Epoch 54 / 60: Training error: 0.020, Validation error: 0.020, Learning rate: 0.00250\n",
      "Epoch 55 / 60: Training error: 0.020, Validation error: 0.020, Learning rate: 0.00250\n",
      "Epoch 56 / 60: Training error: 0.020, Validation error: 0.019, Learning rate: 0.00250\n",
      "Epoch 57 / 60: Training error: 0.020, Validation error: 0.019, Learning rate: 0.00125\n",
      "Epoch 58 / 60: Training error: 0.020, Validation error: 0.019, Learning rate: 0.00125\n",
      "Epoch 59 / 60: Training error: 0.020, Validation error: 0.019, Learning rate: 0.00125\n",
      "NEW LEARNING RATE\n",
      "Epoch 0 / 60: Training error: 0.020, Validation error: 0.020, Learning rate: 0.00100\n",
      "Epoch 1 / 60: Training error: 0.020, Validation error: 0.019, Learning rate: 0.00100\n",
      "Epoch 2 / 60: Training error: 0.020, Validation error: 0.019, Learning rate: 0.00100\n",
      "Epoch 3 / 60: Training error: 0.019, Validation error: 0.019, Learning rate: 0.00100\n",
      "Epoch 4 / 60: Training error: 0.020, Validation error: 0.020, Learning rate: 0.00100\n",
      "Epoch 5 / 60: Training error: 0.020, Validation error: 0.020, Learning rate: 0.00100\n",
      "Epoch 6 / 60: Training error: 0.020, Validation error: 0.020, Learning rate: 0.00100\n",
      "Epoch 7 / 60: Training error: 0.019, Validation error: 0.020, Learning rate: 0.00100\n",
      "Epoch 8 / 60: Training error: 0.020, Validation error: 0.019, Learning rate: 0.00100\n",
      "Epoch 9 / 60: Training error: 0.020, Validation error: 0.020, Learning rate: 0.00050\n",
      "Epoch 10 / 60: Training error: 0.020, Validation error: 0.019, Learning rate: 0.00050\n",
      "Epoch 11 / 60: Training error: 0.020, Validation error: 0.020, Learning rate: 0.00050\n",
      "Epoch 12 / 60: Training error: 0.020, Validation error: 0.019, Learning rate: 0.00050\n",
      "Epoch 13 / 60: Training error: 0.020, Validation error: 0.019, Learning rate: 0.00050\n",
      "Epoch 14 / 60: Training error: 0.020, Validation error: 0.020, Learning rate: 0.00050\n",
      "Epoch 15 / 60: Training error: 0.019, Validation error: 0.020, Learning rate: 0.00050\n",
      "Epoch 16 / 60: Training error: 0.019, Validation error: 0.019, Learning rate: 0.00050\n",
      "Epoch 17 / 60: Training error: 0.020, Validation error: 0.019, Learning rate: 0.00025\n",
      "Epoch 18 / 60: Training error: 0.020, Validation error: 0.020, Learning rate: 0.00025\n",
      "Epoch 19 / 60: Training error: 0.019, Validation error: 0.020, Learning rate: 0.00025\n",
      "Epoch 20 / 60: Training error: 0.020, Validation error: 0.020, Learning rate: 0.00025\n",
      "Epoch 21 / 60: Training error: 0.020, Validation error: 0.020, Learning rate: 0.00025\n",
      "Epoch 22 / 60: Training error: 0.020, Validation error: 0.019, Learning rate: 0.00025\n",
      "Epoch 23 / 60: Training error: 0.019, Validation error: 0.020, Learning rate: 0.00013\n",
      "Epoch 24 / 60: Training error: 0.020, Validation error: 0.019, Learning rate: 0.00013\n",
      "Epoch 25 / 60: Training error: 0.019, Validation error: 0.020, Learning rate: 0.00013\n",
      "Epoch 26 / 60: Training error: 0.020, Validation error: 0.019, Learning rate: 0.00013\n",
      "Epoch 27 / 60: Training error: 0.020, Validation error: 0.020, Learning rate: 0.00013\n",
      "Epoch 28 / 60: Batch 262 / 2872, Training error: 0.019\r"
     ]
    }
   ],
   "source": [
    "\n",
    "for epoch in epochs:\n",
    "    for depth in nn_depths:\n",
    "        for width in nn_widths:\n",
    "            results, qrnn = train(depth, width, batchSize, epoch, maximum_epoch, training_data, validation_data)\n",
    "            #print(f'qrnn_depth-{depth}_width-{width}_epoch-{epoch}.nc')\n",
    "            qrnn.save(f'qrnn_depth-{depth}_width-{width}_epoch-{epoch}.nc')"
   ]
  },
  {
   "cell_type": "code",
   "execution_count": 8,
   "id": "careful-drilling",
   "metadata": {},
   "outputs": [
    {
     "name": "stdout",
     "output_type": "stream",
     "text": [
      "320\n"
     ]
    }
   ],
   "source": [
    "y_pre = []\n",
    "y = []\n",
    "y_prior = []\n",
    "y_pos_mean = []\n",
    "x_in = []\n",
    "\n",
    "nbatch = validation_data.__len__()\n",
    "print (nbatch)\n",
    "for i in range(nbatch):\n",
    "    \n",
    "    xx, yy = validation_data.__getitem__(i)\n",
    "    \n",
    "    x = xx.detach().numpy() \n",
    "\n",
    "    #y_prior.append((x * data.std) + data.mean)\n",
    "       \n",
    "    y.append(yy.detach().numpy())\n",
    "    x_in.append(x)\n",
    "x = np.concatenate(x_in, axis = 0) \n",
    "y = np.concatenate(y, axis= 0)"
   ]
  },
  {
   "cell_type": "code",
   "execution_count": 15,
   "id": "fatty-wrong",
   "metadata": {},
   "outputs": [
    {
     "name": "stdout",
     "output_type": "stream",
     "text": [
      "qrnn_depth-4_width-128_epoch-5.nc\n",
      "qrnn_depth-4_width-256_epoch-5.nc\n",
      "qrnn_depth-4_width-512_epoch-5.nc\n",
      "qrnn_depth-5_width-128_epoch-5.nc\n",
      "qrnn_depth-5_width-256_epoch-5.nc\n",
      "qrnn_depth-5_width-512_epoch-5.nc\n",
      "qrnn_depth-6_width-128_epoch-5.nc\n",
      "qrnn_depth-6_width-256_epoch-5.nc\n",
      "qrnn_depth-6_width-512_epoch-5.nc\n",
      "qrnn_depth-4_width-128_epoch-10.nc\n",
      "qrnn_depth-4_width-256_epoch-10.nc\n",
      "qrnn_depth-4_width-512_epoch-10.nc\n",
      "qrnn_depth-5_width-128_epoch-10.nc\n",
      "qrnn_depth-5_width-256_epoch-10.nc\n",
      "qrnn_depth-5_width-512_epoch-10.nc\n",
      "qrnn_depth-6_width-128_epoch-10.nc\n",
      "qrnn_depth-6_width-256_epoch-10.nc\n",
      "qrnn_depth-6_width-512_epoch-10.nc\n",
      "qrnn_depth-4_width-128_epoch-15.nc\n",
      "qrnn_depth-4_width-256_epoch-15.nc\n",
      "qrnn_depth-4_width-512_epoch-15.nc\n",
      "qrnn_depth-5_width-128_epoch-15.nc\n",
      "qrnn_depth-5_width-256_epoch-15.nc\n",
      "qrnn_depth-5_width-512_epoch-15.nc\n",
      "qrnn_depth-6_width-128_epoch-15.nc\n",
      "qrnn_depth-6_width-256_epoch-15.nc\n",
      "qrnn_depth-6_width-512_epoch-15.nc\n"
     ]
    },
    {
     "data": {
      "image/png": "[encoded data removed]",
      "text/plain": [
       "<Figure size 432x288 with 2 Axes>"
      ]
     },
     "metadata": {
      "needs_background": "light"
     },
     "output_type": "display_data"
    }
   ],
   "source": [
    "#path = os.path.expanduser(\"~/Dendrite/Projects/AWS-325GHz/ICI/qrnn_output/gridsearch/\")\n",
    "            \n",
    "fig, (ax1, ax2) = plt.subplots(1,2, figsize = [6, 4])\n",
    "plt.subplots_adjust(wspace = .3)\n",
    "#quantiles1 = np.array([0.5])\n",
    "for k, epoch in enumerate(epochs):\n",
    "    scores = np.empty([len(nn_depths), len(nn_widths)])\n",
    "    loss = np.empty([len(nn_depths), len(nn_widths)])\n",
    "    for i, nn_depth in enumerate(nn_depths):\n",
    "        for j, nn_width in enumerate(nn_widths):\n",
    "            filename = os.path.join(f'qrnn_depth-{nn_depth}_width-{nn_width}_epoch-{epoch}.nc')\n",
    "            print(filename)\n",
    "            qrnn = QRNN.load(filename)\n",
    "\n",
    "            y_pre = qrnn.predict(x)\n",
    "            y0 = y\n",
    "    #        scores = qrnn.crps(y_pre, y, quantiles)\n",
    "            scores[i,j] = np.mean(qrnn.crps(y_pre, y0, quantiles))\n",
    "\n",
    "            loss[i,j] = quantile_loss(y_pre, y0, quantiles)\n",
    "            \n",
    "\n",
    "    #fig.tight_layout()\n",
    "    color = ['r', 'b', 'k']\n",
    "    for i in range(len(nn_depths)):\n",
    "        ax1.plot(scores[i, :], linewidth = 2.5, c = color[i])\n",
    "    ax1.set_xlabel(\"Layer Width\")\n",
    "    ax1.set_ylabel(\"CRPS\")\n",
    "    ax1.set_xticks(np.arange(len(nn_widths)))\n",
    "    ax1.set_xticklabels(nn_widths)\n",
    "    ax1.xaxis.set_minor_locator(MultipleLocator(1))\n",
    "    ax1.yaxis.set_minor_locator(MultipleLocator(0.2))\n",
    "    ax1.grid(which = 'both', alpha = 0.2)\n",
    "    #ax.set_yscale('log')\n",
    "    #ax1.legend([\"$n_h$ = 2\", \"$n_h$ = 3\", \"$n_h$ = 4\", \"$n_h$ = 4\"], prop={'size': 20})\n",
    "\n",
    "    for i in range(len(nn_depths)):\n",
    "        ax2.plot(loss[i, :], linewidth = 2.5, c = color [i])\n",
    "    ax2.set_xlabel(\"Layer Width\")\n",
    "    ax2.set_ylabel(\"Mean quantile loss\")\n",
    "    ax2.set_xticks(np.arange(len(nn_widths)))\n",
    "    ax2.set_xticklabels(nn_widths)\n",
    "\n",
    "    ax2.yaxis.set_minor_locator(MultipleLocator(1.5))\n",
    "    ax1.xaxis.set_minor_locator(MultipleLocator(1))\n",
    "    ax2.grid(which = 'both', alpha = 0.2)\n",
    "    #ax.set_yscale('log')\n",
    "    (ax2.legend([\"$n_h$ = 2\", \"$n_h$ = 3\", \"$n_h$ = 4\", \"$n_h$ = 4\"],\n",
    "                prop={'size': 22}, frameon = False, bbox_to_anchor=(0.4, -0.12),ncol=3))\n",
    "\n",
    "    fig.savefig(\"CRPS.pdf\", bbox_inches = 'tight')"
   ]
  },
  {
   "cell_type": "code",
   "execution_count": null,
   "id": "auburn-closing",
   "metadata": {},
   "outputs": [],
   "source": [
    "\n",
    "  \n",
    "\n"
   ]
  },
  {
   "cell_type": "code",
   "execution_count": null,
   "id": "indoor-cologne",
   "metadata": {},
   "outputs": [],
   "source": []
  }
 ],
 "metadata": {
  "kernelspec": {
   "display_name": "Python 3",
   "language": "python",
   "name": "python3"
  },
  "language_info": {
   "codemirror_mode": {
    "name": "ipython",
    "version": 3
   },
   "file_extension": ".py",
   "mimetype": "text/x-python",
   "name": "python",
   "nbconvert_exporter": "python",
   "pygments_lexer": "ipython3",
   "version": "3.7.10"
  }
 },
 "nbformat": 4,
 "nbformat_minor": 5
}

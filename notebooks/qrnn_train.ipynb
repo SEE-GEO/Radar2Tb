{
 "cells": [
  {
   "cell_type": "markdown",
   "id": "presidential-georgia",
   "metadata": {},
   "source": [
    "## Notebook to retrieve IWP from GMI TB and other auxiliary data using QRNN"
   ]
  },
  {
   "cell_type": "code",
   "execution_count": 1,
   "id": "funky-outdoors",
   "metadata": {},
   "outputs": [
    {
     "name": "stderr",
     "output_type": "stream",
     "text": [
      "Using TensorFlow backend.\n"
     ]
    }
   ],
   "source": [
    "%load_ext autoreload\n",
    "%autoreload 2\n",
    "%matplotlib inline\n",
    "import ipywidgets as w\n",
    "import matplotlib.pyplot as plt\n",
    "import numpy as np\n",
    "import netCDF4\n",
    "from matplotlib.ticker import (MultipleLocator, FormatStrFormatter,\n",
    "                               AutoMinorLocator)\n",
    "from torch.utils.data import DataLoader, random_split\n",
    "from iwc2tb.GMI.gmiData import gmiData\n",
    "import os\n",
    "\n",
    "from typhon.retrieval.qrnn import set_backend, QRNN\n",
    "set_backend(\"pytorch\")"
   ]
  },
  {
   "cell_type": "markdown",
   "id": "promising-enterprise",
   "metadata": {},
   "source": [
    "### set hyperparameters"
   ]
  },
  {
   "cell_type": "code",
   "execution_count": 2,
   "id": "specialized-shooting",
   "metadata": {},
   "outputs": [],
   "source": [
    "quantiles         = np.array([0.002, 0.03, 0.16, 0.5, 0.84, 0.97, 0.998])\n",
    "#quantiles         = np.arange(0, 1, 0.1)\n",
    "\n",
    "batchSize         = 256\n",
    "\n",
    "depth             = 4\n",
    "width             = 256\n",
    "convergence_epoch = 7\n",
    "maximum_epoch     = 60\n",
    "\n",
    "inputs            = 8\n",
    "\n",
    "inChannels = np.array(['166.5V', '166.5H', '183+-3', '183+-7'], dtype=object)"
   ]
  },
  {
   "cell_type": "markdown",
   "id": "informative-relevance",
   "metadata": {},
   "source": [
    "## training"
   ]
  },
  {
   "cell_type": "code",
   "execution_count": 3,
   "id": "numeric-semester",
   "metadata": {},
   "outputs": [],
   "source": [
    "def train(depth, width, batchSize, convergence_epoch, maximum_epoch, training_data, validation_data):\n",
    "        qrnn = QRNN(inputs, quantiles, (depth, width , \"relu\"))\n",
    "        for lr in [  0.01, 0.001, 0.0001]:\n",
    "            print (\"NEW LEARNING RATE\")\n",
    "            results = qrnn.train(\n",
    "                training_data,\n",
    "                validation_data,\n",
    "                batch_size=batchSize,\n",
    "                momentum = 0,\n",
    "                sigma_noise=None,\n",
    "                initial_learning_rate= lr ,\n",
    "                maximum_epochs=maximum_epoch,\n",
    "                convergence_epochs= convergence_epoch,    \n",
    "                gpu=True)\n",
    "\n",
    "        return results, qrnn\n",
    "\n"
   ]
  },
  {
   "cell_type": "markdown",
   "id": "personal-exploration",
   "metadata": {},
   "source": [
    "### read training data"
   ]
  },
  {
   "cell_type": "code",
   "execution_count": 4,
   "id": "returning-bibliography",
   "metadata": {},
   "outputs": [
    {
     "name": "stdout",
     "output_type": "stream",
     "text": [
      "<class 'netCDF4._netCDF4.Variable'>\n",
      "float64 ta(cases, channels)\n",
      "    _FillValue: nan\n",
      "    stype: [4 0 0 ... 0 1 2]\n",
      "    lon: [ 288.85056401   96.89216783  254.99987956 ...  159.50348536  109.14015167\n",
      " -100.41732884]\n",
      "    lat: [-17.80037224 -31.96415723 -40.69666468 ... -62.57640629  35.07080707\n",
      "  49.77990782]\n",
      "    iwp: [5.67045602e-04 3.33754645e-05 1.00389680e-03 ... 2.23677548e-03\n",
      " 7.05680009e-02 1.73870945e+00]\n",
      "    wvp: [23.95259226 16.87359535 40.24756174 ... 24.14459425  6.87207427\n",
      " 13.31564778]\n",
      "    rwp: [1.26971810e-03 4.35895366e-06 7.39046472e-03 ... 0.00000000e+00\n",
      " 0.00000000e+00 0.00000000e+00]\n",
      "    t0: [292.16737365 290.64278706 290.72017524 ... 276.77713842 276.79491121\n",
      " 271.48740775]\n",
      "    p0: [ 97200.78552076 102349.32241607 101308.42209455 ... 100083.33436208\n",
      "  91171.41149355  94771.54584767]\n",
      "    z0: [ 3.29399893e+02 -2.10808613e-11 -1.12003323e-10 ... -3.84225836e-02\n",
      "  9.56584193e+02  4.33121739e+02]\n",
      "unlimited dimensions: \n",
      "current shape = (1042742, 4)\n",
      "filling on\n"
     ]
    }
   ],
   "source": [
    "data = gmiData(os.path.expanduser(\"~/Dendrite/Projects/IWP/GMI/training_data/TB_GMI_train.nc\"), \n",
    "               inChannels,\n",
    "               batch_size = batchSize)  \n",
    "\n",
    "n = len(data)\n",
    "n_train = int(0.9 * n)\n",
    "n_val = n - n_train\n",
    "\n",
    "training_data, validation_data = random_split(data, [n_train, n_val])\n",
    "results = []"
   ]
  },
  {
   "cell_type": "markdown",
   "id": "prescribed-church",
   "metadata": {},
   "source": [
    "### start training"
   ]
  },
  {
   "cell_type": "code",
   "execution_count": 5,
   "id": "integrated-military",
   "metadata": {},
   "outputs": [
    {
     "name": "stdout",
     "output_type": "stream",
     "text": [
      "NEW LEARNING RATE\n",
      "Epoch 0 / 60: Training error: 0.042, Validation error: 0.038, Learning rate: 0.01000\n",
      "Epoch 1 / 60: Training error: 0.026, Validation error: 0.021, Learning rate: 0.01000\n",
      "Epoch 2 / 60: Training error: 0.020, Validation error: 0.019, Learning rate: 0.01000\n",
      "Epoch 3 / 60: Training error: 0.018, Validation error: 0.016, Learning rate: 0.01000\n",
      "Epoch 4 / 60: Training error: 0.017, Validation error: 0.016, Learning rate: 0.01000\n",
      "Epoch 5 / 60: Training error: 0.016, Validation error: 0.014, Learning rate: 0.01000\n",
      "Epoch 6 / 60: Training error: 0.016, Validation error: 0.014, Learning rate: 0.01000\n",
      "Epoch 7 / 60: Training error: 0.015, Validation error: 0.014, Learning rate: 0.01000\n",
      "Epoch 8 / 60: Training error: 0.015, Validation error: 0.015, Learning rate: 0.01000\n",
      "Epoch 9 / 60: Training error: 0.015, Validation error: 0.013, Learning rate: 0.01000\n",
      "Epoch 10 / 60: Training error: 0.014, Validation error: 0.014, Learning rate: 0.01000\n",
      "Epoch 11 / 60: Training error: 0.014, Validation error: 0.013, Learning rate: 0.01000\n",
      "Epoch 12 / 60: Training error: 0.014, Validation error: 0.015, Learning rate: 0.01000\n",
      "Epoch 13 / 60: Training error: 0.014, Validation error: 0.013, Learning rate: 0.01000\n",
      "Epoch 14 / 60: Training error: 0.014, Validation error: 0.013, Learning rate: 0.01000\n",
      "Epoch 15 / 60: Training error: 0.014, Validation error: 0.013, Learning rate: 0.01000\n",
      "Epoch 16 / 60: Training error: 0.013, Validation error: 0.015, Learning rate: 0.01000\n",
      "Epoch 17 / 60: Training error: 0.013, Validation error: 0.013, Learning rate: 0.01000\n",
      "Epoch 18 / 60: Training error: 0.013, Validation error: 0.012, Learning rate: 0.01000\n",
      "Epoch 19 / 60: Training error: 0.013, Validation error: 0.018, Learning rate: 0.01000\n",
      "Epoch 20 / 60: Training error: 0.013, Validation error: 0.012, Learning rate: 0.01000\n",
      "Epoch 21 / 60: Training error: 0.013, Validation error: 0.017, Learning rate: 0.01000\n",
      "Epoch 22 / 60: Training error: 0.013, Validation error: 0.013, Learning rate: 0.01000\n",
      "Epoch 23 / 60: Training error: 0.012, Validation error: 0.012, Learning rate: 0.01000\n",
      "Epoch 24 / 60: Training error: 0.012, Validation error: 0.012, Learning rate: 0.01000\n",
      "Epoch 25 / 60: Training error: 0.012, Validation error: 0.018, Learning rate: 0.01000\n",
      "Epoch 26 / 60: Training error: 0.012, Validation error: 0.012, Learning rate: 0.01000\n",
      "Epoch 27 / 60: Training error: 0.012, Validation error: 0.014, Learning rate: 0.01000\n",
      "Epoch 28 / 60: Training error: 0.012, Validation error: 0.011, Learning rate: 0.01000\n",
      "Epoch 29 / 60: Training error: 0.012, Validation error: 0.011, Learning rate: 0.01000\n",
      "Epoch 30 / 60: Training error: 0.012, Validation error: 0.012, Learning rate: 0.01000\n",
      "Epoch 31 / 60: Training error: 0.011, Validation error: 0.011, Learning rate: 0.01000\n",
      "Epoch 32 / 60: Training error: 0.011, Validation error: 0.011, Learning rate: 0.01000\n",
      "Epoch 33 / 60: Training error: 0.011, Validation error: 0.012, Learning rate: 0.01000\n",
      "Epoch 34 / 60: Training error: 0.011, Validation error: 0.011, Learning rate: 0.01000\n",
      "Epoch 35 / 60: Training error: 0.011, Validation error: 0.010, Learning rate: 0.01000\n",
      "Epoch 36 / 60: Training error: 0.011, Validation error: 0.010, Learning rate: 0.01000\n",
      "Epoch 37 / 60: Training error: 0.011, Validation error: 0.011, Learning rate: 0.01000\n",
      "Epoch 38 / 60: Training error: 0.011, Validation error: 0.011, Learning rate: 0.01000\n",
      "Epoch 39 / 60: Training error: 0.011, Validation error: 0.012, Learning rate: 0.01000\n",
      "Epoch 40 / 60: Training error: 0.011, Validation error: 0.014, Learning rate: 0.01000\n",
      "Epoch 41 / 60: Training error: 0.011, Validation error: 0.010, Learning rate: 0.01000\n",
      "Epoch 42 / 60: Training error: 0.010, Validation error: 0.010, Learning rate: 0.01000\n",
      "Epoch 43 / 60: Training error: 0.011, Validation error: 0.010, Learning rate: 0.01000\n",
      "Epoch 44 / 60: Training error: 0.010, Validation error: 0.010, Learning rate: 0.01000\n",
      "Epoch 45 / 60: Training error: 0.010, Validation error: 0.010, Learning rate: 0.01000\n",
      "Epoch 46 / 60: Training error: 0.010, Validation error: 0.010, Learning rate: 0.01000\n",
      "Epoch 47 / 60: Training error: 0.010, Validation error: 0.010, Learning rate: 0.01000\n",
      "Epoch 48 / 60: Training error: 0.010, Validation error: 0.010, Learning rate: 0.01000\n",
      "Epoch 49 / 60: Training error: 0.010, Validation error: 0.009, Learning rate: 0.01000\n",
      "Epoch 50 / 60: Training error: 0.010, Validation error: 0.010, Learning rate: 0.01000\n",
      "Epoch 51 / 60: Training error: 0.010, Validation error: 0.009, Learning rate: 0.01000\n",
      "Epoch 52 / 60: Training error: 0.010, Validation error: 0.010, Learning rate: 0.01000\n",
      "Epoch 53 / 60: Training error: 0.010, Validation error: 0.009, Learning rate: 0.01000\n",
      "Epoch 54 / 60: Training error: 0.010, Validation error: 0.010, Learning rate: 0.01000\n",
      "Epoch 55 / 60: Training error: 0.010, Validation error: 0.009, Learning rate: 0.01000\n",
      "Epoch 56 / 60: Training error: 0.010, Validation error: 0.009, Learning rate: 0.01000\n",
      "Epoch 57 / 60: Training error: 0.010, Validation error: 0.010, Learning rate: 0.01000\n",
      "Epoch 58 / 60: Training error: 0.010, Validation error: 0.010, Learning rate: 0.01000\n",
      "Epoch 59 / 60: Training error: 0.010, Validation error: 0.009, Learning rate: 0.01000\n",
      "NEW LEARNING RATE\n",
      "Epoch 0 / 60: Training error: 0.009, Validation error: 0.009, Learning rate: 0.00100\n",
      "Epoch 1 / 60: Training error: 0.009, Validation error: 0.009, Learning rate: 0.00100\n",
      "Epoch 2 / 60: Training error: 0.009, Validation error: 0.009, Learning rate: 0.00100\n",
      "Epoch 3 / 60: Training error: 0.009, Validation error: 0.009, Learning rate: 0.00100\n",
      "Epoch 4 / 60: Training error: 0.009, Validation error: 0.009, Learning rate: 0.00100\n",
      "Epoch 5 / 60: Training error: 0.009, Validation error: 0.009, Learning rate: 0.00100\n",
      "Epoch 6 / 60: Training error: 0.009, Validation error: 0.009, Learning rate: 0.00100\n",
      "Epoch 7 / 60: Training error: 0.009, Validation error: 0.008, Learning rate: 0.00100\n",
      "Epoch 8 / 60: Training error: 0.009, Validation error: 0.009, Learning rate: 0.00100\n",
      "Epoch 9 / 60: Training error: 0.009, Validation error: 0.009, Learning rate: 0.00100\n",
      "Epoch 10 / 60: Training error: 0.009, Validation error: 0.009, Learning rate: 0.00100\n",
      "Epoch 11 / 60: Training error: 0.009, Validation error: 0.009, Learning rate: 0.00100\n",
      "Epoch 12 / 60: Training error: 0.009, Validation error: 0.009, Learning rate: 0.00100\n",
      "Epoch 13 / 60: Training error: 0.009, Validation error: 0.009, Learning rate: 0.00100\n",
      "Epoch 14 / 60: Training error: 0.009, Validation error: 0.009, Learning rate: 0.00100\n",
      "Epoch 15 / 60: Training error: 0.009, Validation error: 0.009, Learning rate: 0.00100\n",
      "Epoch 16 / 60: Training error: 0.009, Validation error: 0.009, Learning rate: 0.00050\n",
      "Epoch 17 / 60: Training error: 0.009, Validation error: 0.009, Learning rate: 0.00050\n",
      "Epoch 18 / 60: Training error: 0.009, Validation error: 0.009, Learning rate: 0.00050\n",
      "Epoch 19 / 60: Training error: 0.009, Validation error: 0.008, Learning rate: 0.00050\n",
      "Epoch 20 / 60: Training error: 0.009, Validation error: 0.009, Learning rate: 0.00050\n",
      "Epoch 21 / 60: Training error: 0.009, Validation error: 0.008, Learning rate: 0.00050\n",
      "Epoch 22 / 60: Training error: 0.009, Validation error: 0.009, Learning rate: 0.00050\n",
      "Epoch 23 / 60: Training error: 0.009, Validation error: 0.009, Learning rate: 0.00050\n",
      "Epoch 24 / 60: Training error: 0.009, Validation error: 0.008, Learning rate: 0.00050\n",
      "Epoch 25 / 60: Training error: 0.009, Validation error: 0.009, Learning rate: 0.00050\n",
      "Epoch 26 / 60: Training error: 0.009, Validation error: 0.009, Learning rate: 0.00050\n",
      "Epoch 27 / 60: Training error: 0.009, Validation error: 0.008, Learning rate: 0.00050\n",
      "Epoch 28 / 60: Training error: 0.009, Validation error: 0.009, Learning rate: 0.00050\n",
      "Epoch 29 / 60: Training error: 0.009, Validation error: 0.008, Learning rate: 0.00050\n",
      "Epoch 30 / 60: Training error: 0.009, Validation error: 0.009, Learning rate: 0.00050\n",
      "Epoch 31 / 60: Training error: 0.009, Validation error: 0.009, Learning rate: 0.00050\n",
      "Epoch 32 / 60: Training error: 0.009, Validation error: 0.009, Learning rate: 0.00050\n",
      "Epoch 33 / 60: Training error: 0.009, Validation error: 0.008, Learning rate: 0.00050\n",
      "Epoch 34 / 60: Training error: 0.009, Validation error: 0.009, Learning rate: 0.00050\n"
     ]
    },
    {
     "name": "stdout",
     "output_type": "stream",
     "text": [
      "Epoch 35 / 60: Training error: 0.009, Validation error: 0.008, Learning rate: 0.00050\n",
      "Epoch 36 / 60: Training error: 0.009, Validation error: 0.009, Learning rate: 0.00025\n",
      "Epoch 37 / 60: Training error: 0.009, Validation error: 0.009, Learning rate: 0.00025\n",
      "Epoch 38 / 60: Training error: 0.009, Validation error: 0.009, Learning rate: 0.00025\n",
      "Epoch 39 / 60: Training error: 0.009, Validation error: 0.009, Learning rate: 0.00025\n",
      "Epoch 40 / 60: Training error: 0.009, Validation error: 0.009, Learning rate: 0.00025\n",
      "Epoch 41 / 60: Training error: 0.009, Validation error: 0.009, Learning rate: 0.00025\n",
      "Epoch 42 / 60: Training error: 0.009, Validation error: 0.009, Learning rate: 0.00025\n",
      "Epoch 43 / 60: Training error: 0.009, Validation error: 0.009, Learning rate: 0.00025\n",
      "Epoch 44 / 60: Training error: 0.009, Validation error: 0.008, Learning rate: 0.00013\n",
      "Epoch 45 / 60: Training error: 0.009, Validation error: 0.009, Learning rate: 0.00013\n",
      "Epoch 46 / 60: Training error: 0.009, Validation error: 0.009, Learning rate: 0.00013\n",
      "Epoch 47 / 60: Training error: 0.009, Validation error: 0.009, Learning rate: 0.00013\n",
      "Epoch 48 / 60: Training error: 0.009, Validation error: 0.009, Learning rate: 0.00013\n",
      "Epoch 49 / 60: Training error: 0.009, Validation error: 0.008, Learning rate: 0.00013\n",
      "Epoch 50 / 60: Training error: 0.009, Validation error: 0.009, Learning rate: 0.00013\n",
      "Epoch 51 / 60: Training error: 0.009, Validation error: 0.008, Learning rate: 0.00013\n",
      "Epoch 52 / 60: Training error: 0.009, Validation error: 0.009, Learning rate: 0.00013\n",
      "Epoch 53 / 60: Training error: 0.009, Validation error: 0.009, Learning rate: 0.00013\n",
      "Epoch 54 / 60: Training error: 0.009, Validation error: 0.009, Learning rate: 0.00013\n",
      "Epoch 55 / 60: Training error: 0.009, Validation error: 0.008, Learning rate: 0.00013\n",
      "Epoch 56 / 60: Training error: 0.009, Validation error: 0.008, Learning rate: 0.00013\n",
      "Epoch 57 / 60: Training error: 0.009, Validation error: 0.009, Learning rate: 0.00013\n",
      "Epoch 58 / 60: Training error: 0.009, Validation error: 0.009, Learning rate: 0.00013\n",
      "Epoch 59 / 60: Training error: 0.009, Validation error: 0.009, Learning rate: 0.00013\n",
      "NEW LEARNING RATE\n",
      "Epoch 0 / 60: Training error: 0.009, Validation error: 0.009, Learning rate: 0.00010\n",
      "Epoch 1 / 60: Training error: 0.009, Validation error: 0.008, Learning rate: 0.00010\n",
      "Epoch 2 / 60: Training error: 0.009, Validation error: 0.008, Learning rate: 0.00010\n",
      "Epoch 3 / 60: Training error: 0.009, Validation error: 0.008, Learning rate: 0.00010\n",
      "Epoch 4 / 60: Training error: 0.009, Validation error: 0.009, Learning rate: 0.00010\n",
      "Epoch 5 / 60: Training error: 0.009, Validation error: 0.009, Learning rate: 0.00010\n",
      "Epoch 6 / 60: Training error: 0.009, Validation error: 0.009, Learning rate: 0.00010\n",
      "Epoch 7 / 60: Training error: 0.009, Validation error: 0.009, Learning rate: 0.00010\n",
      "Epoch 8 / 60: Training error: 0.009, Validation error: 0.009, Learning rate: 0.00010\n",
      "Epoch 9 / 60: Training error: 0.009, Validation error: 0.009, Learning rate: 0.00010\n",
      "Epoch 10 / 60: Training error: 0.009, Validation error: 0.009, Learning rate: 0.00005\n",
      "Epoch 11 / 60: Training error: 0.009, Validation error: 0.008, Learning rate: 0.00005\n",
      "Epoch 12 / 60: Training error: 0.009, Validation error: 0.008, Learning rate: 0.00005\n",
      "Epoch 13 / 60: Training error: 0.009, Validation error: 0.008, Learning rate: 0.00005\n",
      "Epoch 14 / 60: Training error: 0.009, Validation error: 0.009, Learning rate: 0.00005\n",
      "Epoch 15 / 60: Training error: 0.009, Validation error: 0.009, Learning rate: 0.00005\n",
      "Epoch 16 / 60: Training error: 0.009, Validation error: 0.008, Learning rate: 0.00005\n",
      "Epoch 17 / 60: Training error: 0.009, Validation error: 0.009, Learning rate: 0.00005\n",
      "Epoch 18 / 60: Training error: 0.009, Validation error: 0.009, Learning rate: 0.00003\n",
      "Epoch 19 / 60: Training error: 0.009, Validation error: 0.008, Learning rate: 0.00003\n",
      "Epoch 20 / 60: Training error: 0.009, Validation error: 0.009, Learning rate: 0.00003\n",
      "Epoch 21 / 60: Training error: 0.009, Validation error: 0.009, Learning rate: 0.00003\n",
      "Epoch 22 / 60: Training error: 0.009, Validation error: 0.009, Learning rate: 0.00003\n",
      "Epoch 23 / 60: Training error: 0.009, Validation error: 0.009, Learning rate: 0.00003\n",
      "Epoch 24 / 60: Training error: 0.009, Validation error: 0.009, Learning rate: 0.00003\n",
      "Epoch 25 / 60: Training error: 0.009, Validation error: 0.009, Learning rate: 0.00003\n",
      "Epoch 26 / 60: Training error: 0.009, Validation error: 0.009, Learning rate: 0.00001\n",
      "Epoch 27 / 60: Training error: 0.009, Validation error: 0.008, Learning rate: 0.00001\n",
      "Epoch 28 / 60: Training error: 0.009, Validation error: 0.009, Learning rate: 0.00001\n",
      "Epoch 29 / 60: Training error: 0.009, Validation error: 0.009, Learning rate: 0.00001\n",
      "Epoch 30 / 60: Training error: 0.009, Validation error: 0.009, Learning rate: 0.00001\n",
      "Epoch 31 / 60: Training error: 0.009, Validation error: 0.009, Learning rate: 0.00001\n",
      "Epoch 32 / 60: Training error: 0.009, Validation error: 0.008, Learning rate: 0.00001\n",
      "Epoch 33 / 60: Training error: 0.009, Validation error: 0.009, Learning rate: 0.00001\n",
      "Epoch 34 / 60: Training error: 0.009, Validation error: 0.008, Learning rate: 0.00001\n",
      "Epoch 35 / 60: Training error: 0.009, Validation error: 0.009, Learning rate: 0.00001\n",
      "Epoch 36 / 60: Training error: 0.009, Validation error: 0.008, Learning rate: 0.00001\n",
      "Epoch 37 / 60: Training error: 0.009, Validation error: 0.008, Learning rate: 0.00001\n",
      "Epoch 38 / 60: Training error: 0.009, Validation error: 0.009, Learning rate: 0.00001\n",
      "Epoch 39 / 60: Training error: 0.009, Validation error: 0.009, Learning rate: 0.00001\n",
      "Epoch 40 / 60: Training error: 0.009, Validation error: 0.009, Learning rate: 0.00001\n",
      "Epoch 41 / 60: Training error: 0.009, Validation error: 0.009, Learning rate: 0.00001\n",
      "Epoch 42 / 60: Training error: 0.009, Validation error: 0.009, Learning rate: 0.00001\n",
      "Epoch 43 / 60: Training error: 0.009, Validation error: 0.009, Learning rate: 0.00001\n",
      "Epoch 44 / 60: Training error: 0.009, Validation error: 0.009, Learning rate: 0.00001\n",
      "Epoch 45 / 60: Training error: 0.009, Validation error: 0.009, Learning rate: 0.00000\n",
      "Epoch 46 / 60: Training error: 0.009, Validation error: 0.009, Learning rate: 0.00000\n",
      "Epoch 47 / 60: Training error: 0.009, Validation error: 0.009, Learning rate: 0.00000\n",
      "Epoch 48 / 60: Training error: 0.009, Validation error: 0.009, Learning rate: 0.00000\n",
      "Epoch 49 / 60: Training error: 0.009, Validation error: 0.009, Learning rate: 0.00000\n",
      "Epoch 50 / 60: Training error: 0.009, Validation error: 0.009, Learning rate: 0.00000\n",
      "Epoch 51 / 60: Training error: 0.009, Validation error: 0.009, Learning rate: 0.00000\n",
      "Epoch 52 / 60: Training error: 0.009, Validation error: 0.008, Learning rate: 0.00000\n",
      "Epoch 53 / 60: Training error: 0.009, Validation error: 0.008, Learning rate: 0.00000\n",
      "Epoch 54 / 60: Training error: 0.009, Validation error: 0.008, Learning rate: 0.00000\n",
      "Epoch 55 / 60: Training error: 0.009, Validation error: 0.009, Learning rate: 0.00000\n",
      "Epoch 56 / 60: Training error: 0.009, Validation error: 0.009, Learning rate: 0.00000\n",
      "Epoch 57 / 60: Training error: 0.009, Validation error: 0.008, Learning rate: 0.00000\n",
      "Epoch 58 / 60: Training error: 0.009, Validation error: 0.009, Learning rate: 0.00000\n",
      "Epoch 59 / 60: Training error: 0.009, Validation error: 0.009, Learning rate: 0.00000\n"
     ]
    }
   ],
   "source": [
    "results, qrnn = train(depth, width, batchSize, convergence_epoch, maximum_epoch, training_data, validation_data)\n"
   ]
  },
  {
   "cell_type": "code",
   "execution_count": 6,
   "id": "respected-advance",
   "metadata": {},
   "outputs": [
    {
     "name": "stderr",
     "output_type": "stream",
     "text": [
      "/home/inderpreet/anaconda3/lib/python3.7/site-packages/torch/serialization.py:292: UserWarning: Couldn't retrieve source code for container of type FullyConnected. It won't be checked for correctness upon loading.\n",
      "  \"type \" + obj.__name__ + \". It won't be checked \"\n",
      "/home/inderpreet/anaconda3/lib/python3.7/site-packages/torch/serialization.py:292: UserWarning: Couldn't retrieve source code for container of type Linear. It won't be checked for correctness upon loading.\n",
      "  \"type \" + obj.__name__ + \". It won't be checked \"\n",
      "/home/inderpreet/anaconda3/lib/python3.7/site-packages/torch/serialization.py:292: UserWarning: Couldn't retrieve source code for container of type ReLU. It won't be checked for correctness upon loading.\n",
      "  \"type \" + obj.__name__ + \". It won't be checked \"\n"
     ]
    },
    {
     "data": {
      "text/plain": [
       "[<matplotlib.lines.Line2D at 0x7f75bf7ee610>]"
      ]
     },
     "execution_count": 6,
     "metadata": {},
     "output_type": "execute_result"
    },
    {
     "data": {
      "image/png": "[encoded data removed]",
      "text/plain": [
       "<Figure size 432x288 with 1 Axes>"
      ]
     },
     "metadata": {
      "needs_background": "light"
     },
     "output_type": "display_data"
    }
   ],
   "source": [
    "qrnn.save('try/qrnn_gmi_iwp.nc')\n",
    "\n",
    "fig, ax = plt.subplots(1, 1)\n",
    "ax.plot(results['training_errors'])\n",
    "ax.plot(results['validation_errors'])"
   ]
  },
  {
   "cell_type": "code",
   "execution_count": 7,
   "id": "seeing-better",
   "metadata": {},
   "outputs": [
    {
     "name": "stderr",
     "output_type": "stream",
     "text": [
      "100%|██████████| 408/408 [00:00<00:00, 1101.61it/s]\n"
     ]
    },
    {
     "data": {
      "text/plain": [
       "Text(0, 0.5, 'Observed frequency')"
      ]
     },
     "execution_count": 7,
     "metadata": {},
     "output_type": "execute_result"
    },
    {
     "data": {
      "image/png": "[encoded data removed]",
      "text/plain": [
       "<Figure size 432x288 with 1 Axes>"
      ]
     },
     "metadata": {
      "needs_background": "light"
     },
     "output_type": "display_data"
    }
   ],
   "source": [
    "x, y = qrnn.calibration(validation_data)\n",
    "f, ax = plt.subplots(1, 1)\n",
    "ax.plot(x, y, marker = \"o\", c = 'r')\n",
    "ax.plot(x, x, ls = \":\", c = \"k\")\n",
    "#ax.set_xlim([0.1, 0.9])\n",
    "#ax.set_ylim([0.1, 0.9])\n",
    "ax.set_aspect(1.0)\n",
    "ax.set_xlabel(\"Predicted frequency\")\n",
    "ax.set_ylabel(\"Observed frequency\")"
   ]
  },
  {
   "cell_type": "code",
   "execution_count": 8,
   "id": "excellent-mission",
   "metadata": {},
   "outputs": [
    {
     "name": "stdout",
     "output_type": "stream",
     "text": [
      "408\n"
     ]
    },
    {
     "data": {
      "text/plain": [
       "Text(0.5, 0, 'IWP[kg/m2]')"
      ]
     },
     "execution_count": 8,
     "metadata": {},
     "output_type": "execute_result"
    },
    {
     "data": {
      "image/png": "[encoded data removed]",
      "text/plain": [
       "<Figure size 576x576 with 1 Axes>"
      ]
     },
     "metadata": {
      "needs_background": "light"
     },
     "output_type": "display_data"
    }
   ],
   "source": [
    "\n",
    "y_pre = []\n",
    "y = []\n",
    "y_prior = []\n",
    "y_pos_mean = []\n",
    "x_in = []\n",
    "\n",
    "nbatch = validation_data.__len__()\n",
    "print (nbatch)\n",
    "for i in range(nbatch):\n",
    "    \n",
    "    xx, yy = validation_data.__getitem__(i)\n",
    "    \n",
    "    x = xx.detach().numpy() \n",
    "\n",
    "    y_pre.append(qrnn.predict(x)) \n",
    "    y_pos_mean.append((qrnn.posterior_mean(x)))\n",
    "       \n",
    "    y.append(yy.detach().numpy())\n",
    "    x_in.append(x)\n",
    "\n",
    "x_in = np.concatenate(x_in, axis = 0)\n",
    "y_pre = np.concatenate(y_pre, axis = 0)\n",
    "y = np.concatenate(y, axis= 0)\n",
    "y_pos_mean = np.concatenate(y_pos_mean, axis = 0)\n",
    "\n",
    "plt.rcParams.update({'font.size': 20})\n",
    "bins1 = np.arange(0, 30, 0.1)\n",
    "fig, ax = plt.subplots(1, 1, figsize = [8, 8])\n",
    "ax.hist(y_pos_mean, bins1, density = True , histtype = \"step\", label = \"predicted\")\n",
    "\n",
    "\n",
    "ax.hist(y, bins1, density = True, histtype = \"step\", label = \"actual\")\n",
    "ax.set_yscale('log')\n",
    "ax.set_xscale('log')\n",
    "\n",
    "ax.legend()\n",
    "ax.set_ylabel(\"PDF\")\n",
    "ax.set_xlabel(\"IWP[kg/m2]\")"
   ]
  },
  {
   "cell_type": "code",
   "execution_count": 9,
   "id": "accurate-gossip",
   "metadata": {},
   "outputs": [
    {
     "name": "stderr",
     "output_type": "stream",
     "text": [
      "/home/inderpreet/anaconda3/lib/python3.7/site-packages/ipykernel_launcher.py:14: UserWarning: Log scale: values of z <= 0 have been masked\n",
      "  \n"
     ]
    },
    {
     "data": {
      "text/plain": [
       "Text(0.5, 0, 'IWP Observed [kg/m2]')"
      ]
     },
     "execution_count": 9,
     "metadata": {},
     "output_type": "execute_result"
    },
    {
     "data": {
      "image/png": "[encoded data removed]",
      "text/plain": [
       "<Figure size 720x576 with 2 Axes>"
      ]
     },
     "metadata": {
      "needs_background": "light"
     },
     "output_type": "display_data"
    }
   ],
   "source": [
    "import scipy\n",
    "from matplotlib import ticker, cm\n",
    "xyrange = [[0, 15], [0, 15]] # data range\n",
    "\n",
    "bins = [45, 45] # number of bins\n",
    "hh, locx, locy = np.histogram2d(y, y_pos_mean, \n",
    "                                range=xyrange, bins=bins, density = True)\n",
    "posx = np.digitize(y, locx)\n",
    "posy = np.digitize(y_pos_mean, locy)\n",
    "\n",
    "fig, ax = plt.subplots(1, 1, figsize = [10, 8])\n",
    "cs = ax.contourf(np.flipud(hh.T),\n",
    "                extent=np.array(xyrange).flatten(), \n",
    "            locator= ticker.LogLocator(), origin='upper')\n",
    "cbar = fig.colorbar(cs)\n",
    "ax.set_ylim([0, 12])\n",
    "ax.set_xlim([0, 12])\n",
    "xy = np.arange(0, 13, 1)\n",
    "yy = xy\n",
    "ax.plot(xy, yy)\n",
    "ax.set_ylabel(\"IWP Predicted [kg/m2]\")\n",
    "ax.set_xlabel(\"IWP Observed [kg/m2]\")\n",
    "#ax.set_yscale('log')\n",
    "#ax.set_xscale('log')"
   ]
  },
  {
   "cell_type": "code",
   "execution_count": 18,
   "id": "contrary-breast",
   "metadata": {},
   "outputs": [
    {
     "ename": "AttributeError",
     "evalue": "'Subset' object has no attribute 'x'",
     "output_type": "error",
     "traceback": [
      "\u001b[0;31m---------------------------------------------------------------------------\u001b[0m",
      "\u001b[0;31mAttributeError\u001b[0m                            Traceback (most recent call last)",
      "\u001b[0;32m<ipython-input-18-3912983ae9f4>\u001b[0m in \u001b[0;36m<module>\u001b[0;34m\u001b[0m\n\u001b[0;32m----> 1\u001b[0;31m \u001b[0mlat\u001b[0m \u001b[0;34m=\u001b[0m \u001b[0mvalidation_data\u001b[0m\u001b[0;34m.\u001b[0m\u001b[0mx\u001b[0m\u001b[0;34m.\u001b[0m\u001b[0mshape\u001b[0m\u001b[0;34m\u001b[0m\u001b[0;34m\u001b[0m\u001b[0m\n\u001b[0m",
      "\u001b[0;31mAttributeError\u001b[0m: 'Subset' object has no attribute 'x'"
     ]
    }
   ],
   "source": [
    "lat = validation_data.x.shape"
   ]
  },
  {
   "cell_type": "code",
   "execution_count": null,
   "id": "basic-substance",
   "metadata": {},
   "outputs": [],
   "source": []
  }
 ],
 "metadata": {
  "kernelspec": {
   "display_name": "Python 3",
   "language": "python",
   "name": "python3"
  },
  "language_info": {
   "codemirror_mode": {
    "name": "ipython",
    "version": 3
   },
   "file_extension": ".py",
   "mimetype": "text/x-python",
   "name": "python",
   "nbconvert_exporter": "python",
   "pygments_lexer": "ipython3",
   "version": "3.7.9"
  }
 },
 "nbformat": 4,
 "nbformat_minor": 5
}

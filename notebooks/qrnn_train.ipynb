{
 "cells": [
  {
   "cell_type": "markdown",
   "id": "processed-stations",
   "metadata": {},
   "source": [
    "## Notebook to retrieve IWP from GMI TB and other auxiliary data using QRNN"
   ]
  },
  {
   "cell_type": "code",
   "execution_count": 30,
   "id": "funky-outdoors",
   "metadata": {},
   "outputs": [
    {
     "name": "stdout",
     "output_type": "stream",
     "text": [
      "The autoreload extension is already loaded. To reload it, use:\n",
      "  %reload_ext autoreload\n"
     ]
    }
   ],
   "source": [
    "%load_ext autoreload\n",
    "%autoreload 2\n",
    "%matplotlib inline\n",
    "import ipywidgets as w\n",
    "import matplotlib.pyplot as plt\n",
    "import numpy as np\n",
    "import netCDF4\n",
    "from matplotlib.ticker import (MultipleLocator, FormatStrFormatter,\n",
    "                               AutoMinorLocator)\n",
    "from torch.utils.data import DataLoader, random_split\n",
    "from iwc2tb.GMI.gmiData2 import gmiData\n",
    "import os\n",
    "\n",
    "from typhon.retrieval.qrnn import set_backend, QRNN\n",
    "set_backend(\"pytorch\")\n",
    "import time"
   ]
  },
  {
   "cell_type": "markdown",
   "id": "conditional-salon",
   "metadata": {},
   "source": [
    "##### set hyperparameters"
   ]
  },
  {
   "cell_type": "code",
   "execution_count": 2,
   "id": "specialized-shooting",
   "metadata": {},
   "outputs": [
    {
     "name": "stdout",
     "output_type": "stream",
     "text": [
      "[0.01       0.01771654 0.02543307 0.03314961 0.04086614 0.04858268\n",
      " 0.05629921 0.06401575 0.07173228 0.07944882 0.08716535 0.09488189\n",
      " 0.10259843 0.11031496 0.1180315  0.12574803 0.13346457 0.1411811\n",
      " 0.14889764 0.15661417 0.16433071 0.17204724 0.17976378 0.18748031\n",
      " 0.19519685 0.20291339 0.21062992 0.21834646 0.22606299 0.23377953\n",
      " 0.24149606 0.2492126  0.25692913 0.26464567 0.2723622  0.28007874\n",
      " 0.28779528 0.29551181 0.30322835 0.31094488 0.31866142 0.32637795\n",
      " 0.33409449 0.34181102 0.34952756 0.35724409 0.36496063 0.37267717\n",
      " 0.3803937  0.38811024 0.39582677 0.40354331 0.41125984 0.41897638\n",
      " 0.42669291 0.43440945 0.44212598 0.44984252 0.45755906 0.46527559\n",
      " 0.47299213 0.48070866 0.4884252  0.49614173 0.50385827 0.5115748\n",
      " 0.51929134 0.52700787 0.53472441 0.54244094 0.55015748 0.55787402\n",
      " 0.56559055 0.57330709 0.58102362 0.58874016 0.59645669 0.60417323\n",
      " 0.61188976 0.6196063  0.62732283 0.63503937 0.64275591 0.65047244\n",
      " 0.65818898 0.66590551 0.67362205 0.68133858 0.68905512 0.69677165\n",
      " 0.70448819 0.71220472 0.71992126 0.7276378  0.73535433 0.74307087\n",
      " 0.7507874  0.75850394 0.76622047 0.77393701 0.78165354 0.78937008\n",
      " 0.79708661 0.80480315 0.81251969 0.82023622 0.82795276 0.83566929\n",
      " 0.84338583 0.85110236 0.8588189  0.86653543 0.87425197 0.8819685\n",
      " 0.88968504 0.89740157 0.90511811 0.91283465 0.92055118 0.92826772\n",
      " 0.93598425 0.94370079 0.95141732 0.95913386 0.96685039 0.97456693\n",
      " 0.98228346 0.99      ]\n"
     ]
    }
   ],
   "source": [
    "#time.sleep(60 * 60)\n",
    "#quantiles         = np.array([0.002, 0.03, 0.10, 0.16, 0.25, 0.34, 0.5, 0.66, 0.75, 0.84, 0.90, 0.97, 0.998])\n",
    "\n",
    "quantiles         = np.arange(0.05, 1, 0.05)\n",
    "quantiles         = np.linspace(0.01, 0.99, 128)\n",
    "print(quantiles)\n",
    "batchSize         = 256\n",
    "\n",
    "depth             = 5\n",
    "width             = 256 # 512\n",
    "convergence_epoch = 5\n",
    "maximum_epoch     = 80\n",
    "\n",
    "inputs            = np.array([\"ta\", \"t2m\",  \"wvp\",\"lat\", \"z0\", \"stype\"])\n",
    "#inputs            = np.array([\"ta\", \"t2m\",  \"wvp\", \"lat\"])\n",
    "#inputs            = np.array([\"ta\", \"t2m\", \"wvp\", \"lat\", \"stype\"])\n",
    "ninputs           = len(inputs) + 3 + 10\n",
    "\n",
    "outputs           = \"iwp\"\n",
    "\n",
    "inChannels        = np.array(['166.5V', '166.5H', '183+-7', '183+-3'], dtype=object)\n",
    "\n",
    "\n",
    "#latlims           = [45, 65] \n",
    "latlims           = [0, 65]\n",
    "xlog              = True\n",
    "\n",
    "outputfile        = os.path.expanduser(\"~/Dendrite/Projects/IWP/GMI/training_data/try_training/qrnn_gmi_loglinear_jul.nc\")"
   ]
  },
  {
   "cell_type": "markdown",
   "id": "martial-corpus",
   "metadata": {},
   "source": [
    "## training"
   ]
  },
  {
   "cell_type": "code",
   "execution_count": 3,
   "id": "numeric-semester",
   "metadata": {},
   "outputs": [],
   "source": [
    "def train(depth, width, batchSize, convergence_epoch, maximum_epoch, training_data, validation_data):\n",
    "        qrnn = QRNN(ninputs, quantiles, (depth, width , \"relu\"))\n",
    "        for lr in [  0.01, 0.001, 0.0001]:\n",
    "            print (\"NEW LEARNING RATE\")\n",
    "            results = qrnn.train(\n",
    "                training_data,\n",
    "                validation_data,\n",
    "                batch_size=batchSize,\n",
    "                momentum = 0.9,\n",
    "                sigma_noise=None,\n",
    "                initial_learning_rate= lr ,\n",
    "                maximum_epochs=maximum_epoch,\n",
    "                convergence_epochs= convergence_epoch,    \n",
    "                gpu=True)\n",
    "\n",
    "        return results, qrnn\n",
    "\n"
   ]
  },
  {
   "cell_type": "code",
   "execution_count": 4,
   "id": "removed-prediction",
   "metadata": {},
   "outputs": [
    {
     "data": {
      "text/plain": [
       "19"
      ]
     },
     "execution_count": 4,
     "metadata": {},
     "output_type": "execute_result"
    }
   ],
   "source": [
    "ninputs"
   ]
  },
  {
   "cell_type": "markdown",
   "id": "latin-throat",
   "metadata": {},
   "source": [
    "### read training data"
   ]
  },
  {
   "cell_type": "code",
   "execution_count": 31,
   "id": "returning-bibliography",
   "metadata": {},
   "outputs": [
    {
     "name": "stdout",
     "output_type": "stream",
     "text": [
      "1199\n"
     ]
    }
   ],
   "source": [
    "data = gmiData(os.path.expanduser(\"~/Dendrite/Projects/IWP/GMI/training_data/TB_GMI_train_july.nc\"), \n",
    "               inputs, outputs, latlims = latlims,\n",
    "               batch_size = batchSize, log_iwp = xlog)  \n",
    "\n",
    "n = len(data)\n",
    "n_train = int(0.9 * n)\n",
    "n_val = n - n_train\n",
    "\n",
    "training_data, validation_data = random_split(data, [n_train, n_val])\n",
    "results = []\n",
    "\n",
    "print(len(validation_data))"
   ]
  },
  {
   "cell_type": "code",
   "execution_count": 35,
   "id": "comparative-fairy",
   "metadata": {},
   "outputs": [
    {
     "data": {
      "text/plain": [
       "(tensor([[-1.0896, -1.4544, -0.5910,  ...,  0.0000,  0.0000,  0.0000],\n",
       "         [ 0.5000,  0.4877,  0.5907,  ...,  0.0000,  0.0000,  0.0000],\n",
       "         [-0.2976, -0.1426, -0.8263,  ...,  0.0000,  0.0000,  0.0000],\n",
       "         ...,\n",
       "         [-1.1852, -2.0463, -0.6241,  ...,  0.0000,  0.0000,  0.0000],\n",
       "         [-2.8628, -2.3462, -1.5342,  ...,  0.0000,  0.0000,  0.0000],\n",
       "         [ 0.2102,  0.3472,  0.1735,  ...,  0.0000,  0.0000,  0.0000]]),\n",
       " tensor([-5.5278e+00, -1.2937e+01, -3.5534e+00, -6.5305e+00, -9.9240e+00,\n",
       "         -3.3283e-01, -9.6194e+00, -1.0469e+01, -4.2973e+00, -5.4722e+00,\n",
       "         -1.1773e+01, -1.0880e+01, -1.1715e+01, -1.3364e+01, -1.2830e+01,\n",
       "         -4.7642e+00, -1.1970e+01, -1.3305e+01, -1.1648e+01, -1.3451e+01,\n",
       "         -4.0981e+00, -9.3767e+00, -4.2614e+00, -1.2766e+01, -1.2209e+01,\n",
       "         -1.2224e+01, -9.3868e+00, -7.0911e+00, -3.7858e+00, -1.0824e+01,\n",
       "         -1.0343e+01, -2.7960e+00, -9.0953e+00, -8.4413e+00, -9.8310e+00,\n",
       "         -2.4685e+00, -9.4639e+00, -6.2215e+00, -1.3442e+01, -5.0614e+00,\n",
       "         -3.9082e+00, -8.5359e+00, -9.7234e+00, -4.5529e+00,  2.4874e-01,\n",
       "         -1.0544e+01, -1.2648e+01, -1.2162e+01, -9.8249e+00, -4.4716e+00,\n",
       "         -1.0555e+01, -1.1420e+01, -1.1512e+01, -1.1048e+01, -1.2451e+00,\n",
       "         -1.1076e+01, -9.9254e+00, -2.8575e+00, -1.0627e+01, -6.2831e+00,\n",
       "         -1.3425e+01, -1.3479e+01, -1.0810e+01, -1.2398e+01, -3.2319e+00,\n",
       "         -1.2483e+01, -1.0473e+01, -1.0954e+01, -5.8591e+00,  9.6062e-01,\n",
       "         -9.9559e+00, -1.3813e+01, -1.0724e+01, -3.4400e+00, -1.0250e+00,\n",
       "         -2.7298e+00, -1.0393e+01, -1.3003e+01, -1.1920e+01, -9.8613e+00,\n",
       "         -2.3431e+00, -4.7978e+00, -1.0601e+01, -9.9596e+00, -1.6734e+00,\n",
       "         -1.1585e+01, -8.3191e+00, -1.2436e+01, -5.5697e+00, -3.3413e+00,\n",
       "         -2.2981e+00,  2.5881e+00, -9.8539e+00, -1.2835e+01, -2.8978e+00,\n",
       "         -1.0748e+01, -6.4031e+00, -1.3013e+01, -3.5315e+00, -2.2348e+00,\n",
       "         -2.0924e+00, -1.0712e+01, -9.4375e+00, -9.5187e+00, -4.3931e+00,\n",
       "         -9.8336e+00, -4.8477e+00, -5.4821e+00, -9.6562e-01, -1.2662e+01,\n",
       "         -4.8997e+00, -3.4588e+00, -1.0418e+01, -1.0358e+01, -1.3145e+01,\n",
       "         -4.9047e+00, -1.4586e+00, -6.9453e+00, -9.3042e+00, -1.0643e+01,\n",
       "         -1.2061e+01, -3.8281e+00, -1.0766e+01, -1.2131e+01,  5.7023e+00,\n",
       "         -1.3310e+01, -1.1988e+01, -7.0184e+00, -4.2015e+00, -4.7710e+00,\n",
       "         -4.7843e+00, -4.0545e-01, -9.2959e+00, -1.1182e+01,  6.1438e+00,\n",
       "         -1.1902e+01, -7.0219e+00, -5.4188e+00, -1.0288e+01, -1.0743e+01,\n",
       "         -1.2056e+01, -1.3316e+01, -1.0310e+01, -1.2571e+01, -6.7493e+00,\n",
       "         -9.6378e+00, -1.0359e+01, -4.3469e+00, -1.1512e+01, -1.3164e+01,\n",
       "         -1.2174e+01, -1.0519e+01, -5.9937e+00, -1.3737e+01, -8.0048e+00,\n",
       "         -1.0337e+01, -3.5206e+00, -1.2949e+01, -1.1886e+01, -1.1000e+01,\n",
       "         -9.7976e+00, -5.7673e+00, -4.6700e+00, -1.1294e+01, -1.1859e+01,\n",
       "         -1.0606e+01,  6.5190e-03, -2.9170e+00, -6.7707e+00, -1.1756e+01,\n",
       "         -4.6510e+00, -1.1263e+01, -1.0342e+01, -6.1372e+00, -1.0424e+01,\n",
       "         -3.0736e+00, -6.4370e+00, -1.3011e+01, -1.0922e+01, -1.2993e+01,\n",
       "         -1.0490e+01, -9.6788e+00,  1.0529e+00, -1.0519e+01, -9.2716e+00,\n",
       "         -1.3501e+01, -1.3138e+00, -1.0312e+01, -2.8624e+00, -6.0827e+00,\n",
       "         -1.5445e+00, -9.3099e+00, -8.9671e+00, -1.2900e+01, -8.7216e+00,\n",
       "         -5.8400e+00,  1.2242e+00, -2.5314e+00, -1.3182e+01, -2.1043e+00,\n",
       "         -6.9302e+00, -1.1879e+01, -1.1604e+01, -1.2469e+01, -1.3188e+00,\n",
       "         -1.2910e+01, -1.0968e+01, -9.0347e+00, -1.3247e+01, -9.8752e+00,\n",
       "         -1.1967e+01, -9.4973e+00, -9.3991e+00, -5.4972e+00, -4.0631e+00,\n",
       "         -2.3465e+00, -1.2675e+01, -1.0300e+01, -1.0227e+01, -4.0930e+00,\n",
       "         -1.2711e+01, -4.6213e+00, -1.1761e+01, -5.2736e-01, -4.5750e+00,\n",
       "         -7.7966e-01, -9.3278e+00, -4.1944e+00, -1.0365e+01, -9.4279e+00,\n",
       "         -1.2430e+01, -1.1952e+01, -5.0679e+00, -3.2201e+00, -1.0728e+01,\n",
       "         -1.2688e+01, -9.2552e+00, -1.0883e+01, -1.3700e+01, -1.1896e+01,\n",
       "         -9.6727e+00, -5.8827e+00, -7.9290e+00, -1.3484e+01, -1.3081e+01,\n",
       "         -2.0552e+00, -5.3142e+00, -9.9100e+00,  3.9853e+00, -1.5984e+00,\n",
       "         -5.1935e+00, -1.1129e+01, -5.3612e+00, -6.5603e+00, -6.4277e+00,\n",
       "         -9.5735e+00]))"
      ]
     },
     "execution_count": 35,
     "metadata": {},
     "output_type": "execute_result"
    }
   ],
   "source": [
    "data[0]"
   ]
  },
  {
   "cell_type": "code",
   "execution_count": 34,
   "id": "moderate-marina",
   "metadata": {},
   "outputs": [
    {
     "data": {
      "text/plain": [
       "(tensor([[ 0.2854,  0.4188,  0.1763,  ...,  0.0000,  0.0000,  0.0000],\n",
       "         [ 0.9574,  0.6422,  1.0999,  ...,  0.0000,  0.0000,  0.0000],\n",
       "         [-0.3253, -0.3179,  0.0297,  ...,  0.0000,  0.0000,  0.0000],\n",
       "         ...,\n",
       "         [ 0.2461,  0.2006,  0.6121,  ...,  0.0000,  0.0000,  0.0000],\n",
       "         [ 0.3818,  0.5743,  0.0180,  ...,  0.0000,  0.0000,  0.0000],\n",
       "         [ 1.0092,  0.8689,  0.4717,  ...,  0.0000,  0.0000,  0.0000]]),\n",
       " tensor([-11.4698, -10.5683,  -4.1316,  -3.9861,  -1.7312, -13.7560,   0.8510,\n",
       "         -12.6312,   1.8501,  -0.7669, -13.4940, -13.3637,  -5.2691, -12.7045,\n",
       "          -2.6064, -13.7676, -11.7544, -13.2681, -12.7416, -10.9272,  -0.3790,\n",
       "         -10.1253, -12.8256, -12.6878,  -1.0776,  -7.7267, -10.0026,  -9.6250,\n",
       "         -10.1759,  -2.9466,  -9.2969, -11.8083, -11.3286,  -9.2461, -11.6550,\n",
       "         -13.2892, -12.5927, -13.1012, -11.0085,  -7.4686, -12.6401, -13.2826,\n",
       "          -1.7691, -13.0055,  -2.7258,  -4.4967, -13.0692,  -5.2941,  -6.7907,\n",
       "          -3.2370, -11.0044, -11.5474, -13.3718,  -7.1371, -12.6253,   1.4356,\n",
       "          -3.7878, -10.9072,  -1.8907, -12.7705, -13.3577, -11.8413, -13.6064,\n",
       "         -11.2163,  -4.5146, -13.5430,  -1.1717, -12.2095, -10.4116, -11.2254,\n",
       "         -10.8861, -12.2387, -12.9263, -13.6915,  -4.0070,  -7.7957,  -9.7248,\n",
       "          -5.8601, -11.8280, -11.4749, -10.2262, -10.7919,  -9.3371,  -5.2226,\n",
       "         -13.6646, -10.2360,  -4.4219,  -3.6946,  -7.7278, -12.3751, -12.3043,\n",
       "          -2.3311,  -5.2299, -13.6476, -13.0839, -13.2959, -12.0851,  -4.4442,\n",
       "         -12.8305, -13.7552, -11.2221, -11.1889, -11.5850,  -7.1535,  -9.4788,\n",
       "         -12.9021,  -2.7983,  -9.4920,  -1.5130,   2.0084, -10.9068, -12.1612,\n",
       "          -4.2367,  -4.8386,  -6.3627,  -5.7127, -12.4999,  -2.4121, -10.4482,\n",
       "          -9.4940,   2.2816, -11.6417,  -2.2749,  -4.7916,  -9.5137, -11.4495,\n",
       "         -11.3021,  -9.5718,  -9.6342,  -1.8053,  -6.1601,  -6.0922,  -5.9767,\n",
       "          -6.2807, -11.5186,  -9.5123, -10.8054,  -4.2868,  -3.0350,  -6.2548,\n",
       "         -10.5540,  -3.9208, -12.9375, -10.7661, -12.1563, -11.6348,  -5.0316,\n",
       "          -7.6978, -10.5198, -11.1855, -12.6058, -12.2558,  -2.2275,  -7.9658,\n",
       "          -9.4467,  -9.3421, -12.9375,  -1.9405,  -3.6941, -12.1159,   0.0505,\n",
       "         -13.1129, -12.3976, -12.7119,  -4.4322,  -6.3413,  -9.5651, -12.9402,\n",
       "         -10.9587,  -5.3059,  -9.5433, -10.2310,  -3.0821,  -0.6919, -10.5314,\n",
       "         -13.7591,  -6.5404, -11.4509, -13.5530, -13.2794,  -9.8969,  -4.5947,\n",
       "         -11.3968,  -6.2138,  -8.1076, -12.2993, -13.2032, -13.0270, -11.3613,\n",
       "          -4.4781,  -7.8829,  -4.8327, -11.0367, -12.8521,  -9.3520,  -2.9509,\n",
       "         -12.2778,  -4.0986,  -2.7193,  -0.7296,  -9.1446, -11.6994,  -1.9805,\n",
       "         -12.8257,  -4.1063, -11.9573, -12.8349, -10.0785, -10.3336,   0.6520,\n",
       "         -12.6745, -10.4772,  -1.8458,  -9.7290, -12.8623,   0.4885, -12.4748,\n",
       "         -11.3247,  -0.3125, -12.1707, -12.1944, -12.9609, -12.8638, -12.5675,\n",
       "         -12.6415,  -3.7781, -13.2132,  -3.1591,  -7.7765, -12.7529,  -1.6789,\n",
       "          -5.8500,  -3.7710, -13.4482,  -7.1378,  -7.0137, -11.1517,  -0.3886,\n",
       "         -12.2172,  -6.5326,  -4.5983,  -9.5950,  -8.3022, -13.2922, -12.6572,\n",
       "          -1.3717,  -9.0387,   2.2472,  -2.8135,  -2.9870, -10.5691, -11.6677,\n",
       "          -4.9578, -11.7795, -10.1704, -11.6983]))"
      ]
     },
     "execution_count": 34,
     "metadata": {},
     "output_type": "execute_result"
    }
   ],
   "source": [
    "validation_data[0]"
   ]
  },
  {
   "cell_type": "markdown",
   "id": "abandoned-moses",
   "metadata": {},
   "source": [
    "### start training"
   ]
  },
  {
   "cell_type": "code",
   "execution_count": 6,
   "id": "designing-graham",
   "metadata": {},
   "outputs": [
    {
     "name": "stdout",
     "output_type": "stream",
     "text": [
      "NEW LEARNING RATE\n",
      "2153854.784795463 2760957 / 10785, Training error: 0.780\n",
      "Epoch 0 / 80: Training error: 0.780, Validation error: 0.658, Learning rate: 0.01000\n",
      "1799311.583863318 2760957 / 10785, Training error: 0.652\n",
      "Epoch 1 / 80: Training error: 0.652, Validation error: 0.646, Learning rate: 0.01000\n",
      "1776185.251058519 2760957 / 10785, Training error: 0.643\n",
      "Epoch 2 / 80: Training error: 0.643, Validation error: 0.639, Learning rate: 0.01000\n",
      "1763396.8032799363 2760957/ 10785, Training error: 0.639\n",
      "Epoch 3 / 80: Training error: 0.639, Validation error: 0.634, Learning rate: 0.01000\n",
      "1757353.989262879 2760957 / 10785, Training error: 0.637\n",
      "Epoch 4 / 80: Training error: 0.637, Validation error: 0.634, Learning rate: 0.01000\n",
      "1751402.1849919558 2760957/ 10785, Training error: 0.634\n",
      "Epoch 5 / 80: Training error: 0.634, Validation error: 0.637, Learning rate: 0.01000\n",
      "Epoch 6 / 80: Batch 938 / 10785, Training error: 0.634"
     ]
    },
    {
     "ename": "KeyboardInterrupt",
     "evalue": "",
     "output_type": "error",
     "traceback": [
      "\u001b[0;31m---------------------------------------------------------------------------\u001b[0m",
      "\u001b[0;31mKeyboardInterrupt\u001b[0m                         Traceback (most recent call last)",
      "\u001b[0;32m<ipython-input-6-acaaac642267>\u001b[0m in \u001b[0;36m<module>\u001b[0;34m\u001b[0m\n\u001b[0;32m----> 1\u001b[0;31m \u001b[0mresults\u001b[0m\u001b[0;34m,\u001b[0m \u001b[0mqrnn\u001b[0m \u001b[0;34m=\u001b[0m \u001b[0mtrain\u001b[0m\u001b[0;34m(\u001b[0m\u001b[0mdepth\u001b[0m\u001b[0;34m,\u001b[0m \u001b[0mwidth\u001b[0m\u001b[0;34m,\u001b[0m \u001b[0mbatchSize\u001b[0m\u001b[0;34m,\u001b[0m \u001b[0mconvergence_epoch\u001b[0m\u001b[0;34m,\u001b[0m \u001b[0mmaximum_epoch\u001b[0m\u001b[0;34m,\u001b[0m \u001b[0mtraining_data\u001b[0m\u001b[0;34m,\u001b[0m \u001b[0mvalidation_data\u001b[0m\u001b[0;34m)\u001b[0m\u001b[0;34m\u001b[0m\u001b[0;34m\u001b[0m\u001b[0m\n\u001b[0m",
      "\u001b[0;32m<ipython-input-3-380e4a50cf19>\u001b[0m in \u001b[0;36mtrain\u001b[0;34m(depth, width, batchSize, convergence_epoch, maximum_epoch, training_data, validation_data)\u001b[0m\n\u001b[1;32m     12\u001b[0m                 \u001b[0mmaximum_epochs\u001b[0m\u001b[0;34m=\u001b[0m\u001b[0mmaximum_epoch\u001b[0m\u001b[0;34m,\u001b[0m\u001b[0;34m\u001b[0m\u001b[0;34m\u001b[0m\u001b[0m\n\u001b[1;32m     13\u001b[0m                 \u001b[0mconvergence_epochs\u001b[0m\u001b[0;34m=\u001b[0m \u001b[0mconvergence_epoch\u001b[0m\u001b[0;34m,\u001b[0m\u001b[0;34m\u001b[0m\u001b[0;34m\u001b[0m\u001b[0m\n\u001b[0;32m---> 14\u001b[0;31m                 gpu=True)\n\u001b[0m\u001b[1;32m     15\u001b[0m \u001b[0;34m\u001b[0m\u001b[0m\n\u001b[1;32m     16\u001b[0m         \u001b[0;32mreturn\u001b[0m \u001b[0mresults\u001b[0m\u001b[0;34m,\u001b[0m \u001b[0mqrnn\u001b[0m\u001b[0;34m\u001b[0m\u001b[0;34m\u001b[0m\u001b[0m\n",
      "\u001b[0;32m~/typhon/typhon/retrieval/qrnn/qrnn.py\u001b[0m in \u001b[0;36mtrain\u001b[0;34m(self, training_data, validation_data, batch_size, sigma_noise, adversarial_training, delta_at, initial_learning_rate, momentum, convergence_epochs, learning_rate_decay, learning_rate_minimum, maximum_epochs, training_split, gpu)\u001b[0m\n\u001b[1;32m    313\u001b[0m                                 \u001b[0mmaximum_epochs\u001b[0m\u001b[0;34m,\u001b[0m\u001b[0;34m\u001b[0m\u001b[0;34m\u001b[0m\u001b[0m\n\u001b[1;32m    314\u001b[0m                                 \u001b[0mtraining_split\u001b[0m\u001b[0;34m,\u001b[0m\u001b[0;34m\u001b[0m\u001b[0;34m\u001b[0m\u001b[0m\n\u001b[0;32m--> 315\u001b[0;31m                                 gpu)\n\u001b[0m\u001b[1;32m    316\u001b[0m \u001b[0;34m\u001b[0m\u001b[0m\n\u001b[1;32m    317\u001b[0m     \u001b[0;32mdef\u001b[0m \u001b[0mpredict\u001b[0m\u001b[0;34m(\u001b[0m\u001b[0mself\u001b[0m\u001b[0;34m,\u001b[0m \u001b[0mx\u001b[0m\u001b[0;34m)\u001b[0m\u001b[0;34m:\u001b[0m\u001b[0;34m\u001b[0m\u001b[0;34m\u001b[0m\u001b[0m\n",
      "\u001b[0;32m~/typhon/typhon/retrieval/qrnn/models/pytorch/common.py\u001b[0m in \u001b[0;36mtrain\u001b[0;34m(self, *args, **kwargs)\u001b[0m\n\u001b[1;32m    357\u001b[0m                             \u001b[0mi\u001b[0m\u001b[0;34m,\u001b[0m \u001b[0mmaximum_epochs\u001b[0m\u001b[0;34m,\u001b[0m \u001b[0mj\u001b[0m\u001b[0;34m,\u001b[0m \u001b[0mlen\u001b[0m\u001b[0;34m(\u001b[0m\u001b[0mtraining_data\u001b[0m\u001b[0;34m)\u001b[0m\u001b[0;34m,\u001b[0m \u001b[0merr\u001b[0m \u001b[0;34m/\u001b[0m \u001b[0mn\u001b[0m\u001b[0;34m\u001b[0m\u001b[0;34m\u001b[0m\u001b[0m\n\u001b[1;32m    358\u001b[0m                         ),\n\u001b[0;32m--> 359\u001b[0;31m                         \u001b[0mend\u001b[0m\u001b[0;34m=\u001b[0m\u001b[0;34m\"\\r\"\u001b[0m\u001b[0;34m,\u001b[0m\u001b[0;34m\u001b[0m\u001b[0;34m\u001b[0m\u001b[0m\n\u001b[0m\u001b[1;32m    360\u001b[0m                     )\n\u001b[1;32m    361\u001b[0m \u001b[0;34m\u001b[0m\u001b[0m\n",
      "\u001b[0;32m~/anaconda3/lib/python3.7/site-packages/ipykernel/iostream.py\u001b[0m in \u001b[0;36mwrite\u001b[0;34m(self, string)\u001b[0m\n\u001b[1;32m    402\u001b[0m             \u001b[0mis_child\u001b[0m \u001b[0;34m=\u001b[0m \u001b[0;34m(\u001b[0m\u001b[0;32mnot\u001b[0m \u001b[0mself\u001b[0m\u001b[0;34m.\u001b[0m\u001b[0m_is_master_process\u001b[0m\u001b[0;34m(\u001b[0m\u001b[0;34m)\u001b[0m\u001b[0;34m)\u001b[0m\u001b[0;34m\u001b[0m\u001b[0;34m\u001b[0m\u001b[0m\n\u001b[1;32m    403\u001b[0m             \u001b[0;31m# only touch the buffer in the IO thread to avoid races\u001b[0m\u001b[0;34m\u001b[0m\u001b[0;34m\u001b[0m\u001b[0;34m\u001b[0m\u001b[0m\n\u001b[0;32m--> 404\u001b[0;31m             \u001b[0mself\u001b[0m\u001b[0;34m.\u001b[0m\u001b[0mpub_thread\u001b[0m\u001b[0;34m.\u001b[0m\u001b[0mschedule\u001b[0m\u001b[0;34m(\u001b[0m\u001b[0;32mlambda\u001b[0m \u001b[0;34m:\u001b[0m \u001b[0mself\u001b[0m\u001b[0;34m.\u001b[0m\u001b[0m_buffer\u001b[0m\u001b[0;34m.\u001b[0m\u001b[0mwrite\u001b[0m\u001b[0;34m(\u001b[0m\u001b[0mstring\u001b[0m\u001b[0;34m)\u001b[0m\u001b[0;34m)\u001b[0m\u001b[0;34m\u001b[0m\u001b[0;34m\u001b[0m\u001b[0m\n\u001b[0m\u001b[1;32m    405\u001b[0m             \u001b[0;32mif\u001b[0m \u001b[0mis_child\u001b[0m\u001b[0;34m:\u001b[0m\u001b[0;34m\u001b[0m\u001b[0;34m\u001b[0m\u001b[0m\n\u001b[1;32m    406\u001b[0m                 \u001b[0;31m# mp.Pool cannot be trusted to flush promptly (or ever),\u001b[0m\u001b[0;34m\u001b[0m\u001b[0;34m\u001b[0m\u001b[0;34m\u001b[0m\u001b[0m\n",
      "\u001b[0;32m~/anaconda3/lib/python3.7/site-packages/ipykernel/iostream.py\u001b[0m in \u001b[0;36mschedule\u001b[0;34m(self, f)\u001b[0m\n\u001b[1;32m    203\u001b[0m             \u001b[0mself\u001b[0m\u001b[0;34m.\u001b[0m\u001b[0m_events\u001b[0m\u001b[0;34m.\u001b[0m\u001b[0mappend\u001b[0m\u001b[0;34m(\u001b[0m\u001b[0mf\u001b[0m\u001b[0;34m)\u001b[0m\u001b[0;34m\u001b[0m\u001b[0;34m\u001b[0m\u001b[0m\n\u001b[1;32m    204\u001b[0m             \u001b[0;31m# wake event thread (message content is ignored)\u001b[0m\u001b[0;34m\u001b[0m\u001b[0;34m\u001b[0m\u001b[0;34m\u001b[0m\u001b[0m\n\u001b[0;32m--> 205\u001b[0;31m             \u001b[0mself\u001b[0m\u001b[0;34m.\u001b[0m\u001b[0m_event_pipe\u001b[0m\u001b[0;34m.\u001b[0m\u001b[0msend\u001b[0m\u001b[0;34m(\u001b[0m\u001b[0;34mb''\u001b[0m\u001b[0;34m)\u001b[0m\u001b[0;34m\u001b[0m\u001b[0;34m\u001b[0m\u001b[0m\n\u001b[0m\u001b[1;32m    206\u001b[0m         \u001b[0;32melse\u001b[0m\u001b[0;34m:\u001b[0m\u001b[0;34m\u001b[0m\u001b[0;34m\u001b[0m\u001b[0m\n\u001b[1;32m    207\u001b[0m             \u001b[0mf\u001b[0m\u001b[0;34m(\u001b[0m\u001b[0;34m)\u001b[0m\u001b[0;34m\u001b[0m\u001b[0;34m\u001b[0m\u001b[0m\n",
      "\u001b[0;32m~/anaconda3/lib/python3.7/site-packages/zmq/sugar/socket.py\u001b[0m in \u001b[0;36msend\u001b[0;34m(self, data, flags, copy, track, routing_id, group)\u001b[0m\n\u001b[1;32m    489\u001b[0m                                  copy_threshold=self.copy_threshold)\n\u001b[1;32m    490\u001b[0m             \u001b[0mdata\u001b[0m\u001b[0;34m.\u001b[0m\u001b[0mgroup\u001b[0m \u001b[0;34m=\u001b[0m \u001b[0mgroup\u001b[0m\u001b[0;34m\u001b[0m\u001b[0;34m\u001b[0m\u001b[0m\n\u001b[0;32m--> 491\u001b[0;31m         \u001b[0;32mreturn\u001b[0m \u001b[0msuper\u001b[0m\u001b[0;34m(\u001b[0m\u001b[0mSocket\u001b[0m\u001b[0;34m,\u001b[0m \u001b[0mself\u001b[0m\u001b[0;34m)\u001b[0m\u001b[0;34m.\u001b[0m\u001b[0msend\u001b[0m\u001b[0;34m(\u001b[0m\u001b[0mdata\u001b[0m\u001b[0;34m,\u001b[0m \u001b[0mflags\u001b[0m\u001b[0;34m=\u001b[0m\u001b[0mflags\u001b[0m\u001b[0;34m,\u001b[0m \u001b[0mcopy\u001b[0m\u001b[0;34m=\u001b[0m\u001b[0mcopy\u001b[0m\u001b[0;34m,\u001b[0m \u001b[0mtrack\u001b[0m\u001b[0;34m=\u001b[0m\u001b[0mtrack\u001b[0m\u001b[0;34m)\u001b[0m\u001b[0;34m\u001b[0m\u001b[0;34m\u001b[0m\u001b[0m\n\u001b[0m\u001b[1;32m    492\u001b[0m \u001b[0;34m\u001b[0m\u001b[0m\n\u001b[1;32m    493\u001b[0m     \u001b[0;32mdef\u001b[0m \u001b[0msend_multipart\u001b[0m\u001b[0;34m(\u001b[0m\u001b[0mself\u001b[0m\u001b[0;34m,\u001b[0m \u001b[0mmsg_parts\u001b[0m\u001b[0;34m,\u001b[0m \u001b[0mflags\u001b[0m\u001b[0;34m=\u001b[0m\u001b[0;36m0\u001b[0m\u001b[0;34m,\u001b[0m \u001b[0mcopy\u001b[0m\u001b[0;34m=\u001b[0m\u001b[0;32mTrue\u001b[0m\u001b[0;34m,\u001b[0m \u001b[0mtrack\u001b[0m\u001b[0;34m=\u001b[0m\u001b[0;32mFalse\u001b[0m\u001b[0;34m,\u001b[0m \u001b[0;34m**\u001b[0m\u001b[0mkwargs\u001b[0m\u001b[0;34m)\u001b[0m\u001b[0;34m:\u001b[0m\u001b[0;34m\u001b[0m\u001b[0;34m\u001b[0m\u001b[0m\n",
      "\u001b[0;32mzmq/backend/cython/socket.pyx\u001b[0m in \u001b[0;36mzmq.backend.cython.socket.Socket.send\u001b[0;34m()\u001b[0m\n",
      "\u001b[0;32mzmq/backend/cython/socket.pyx\u001b[0m in \u001b[0;36mzmq.backend.cython.socket.Socket.send\u001b[0;34m()\u001b[0m\n",
      "\u001b[0;32mzmq/backend/cython/socket.pyx\u001b[0m in \u001b[0;36mzmq.backend.cython.socket._send_copy\u001b[0;34m()\u001b[0m\n",
      "\u001b[0;32m~/anaconda3/lib/python3.7/site-packages/zmq/backend/cython/checkrc.pxd\u001b[0m in \u001b[0;36mzmq.backend.cython.checkrc._check_rc\u001b[0;34m()\u001b[0m\n",
      "\u001b[0;31mKeyboardInterrupt\u001b[0m: "
     ]
    }
   ],
   "source": [
    "results, qrnn = train(depth, width, batchSize, convergence_epoch, maximum_epoch, training_data, validation_data)\n"
   ]
  },
  {
   "cell_type": "code",
   "execution_count": null,
   "id": "fatty-wrong",
   "metadata": {},
   "outputs": [],
   "source": [
    "qrnn.save(os.path.expanduser(outputfile))\n",
    "\n",
    "#qrnn = QRNN.load(os.path.expanduser('~/Dendrite/Projects/IWP/GMI/training_data/try_training/qrnn_gmi_iwp5.nc'))\n",
    "fig, ax = plt.subplots(1, 1)\n",
    "ax.plot(results['training_errors'])\n",
    "ax.plot(results['validation_errors'])"
   ]
  },
  {
   "cell_type": "code",
   "execution_count": null,
   "id": "vocational-appendix",
   "metadata": {},
   "outputs": [],
   "source": [
    "x, y = qrnn.calibration(validation_data)\n",
    "f, ax = plt.subplots(1, 1, figsize = [8, 8])\n",
    "ax.plot(x, y, marker = \"o\", c = 'r')\n",
    "ax.plot(x, x, ls = \":\", c = \"k\")\n",
    "#ax.set_xlim([0.1, 0.9])\n",
    "#ax.set_ylim([0.1, 0.9])\n",
    "ax.set_aspect(1.0)\n",
    "ax.set_xlabel(\"Predicted frequency\")\n",
    "ax.set_ylabel(\"Observed frequency\")\n",
    "f.savefig(\"calibration.png\", bbox_inches = \"tight\")"
   ]
  },
  {
   "cell_type": "code",
   "execution_count": null,
   "id": "excellent-mission",
   "metadata": {},
   "outputs": [],
   "source": [
    "imedian            = np.argwhere((quantiles >= 0.50) & (quantiles < 0.51))[0][0]\n",
    "y_pre = []\n",
    "y = []\n",
    "y_prior = []\n",
    "y_pos_mean = []\n",
    "x_in = []\n",
    "\n",
    "nbatch = len(validation_data)\n",
    "print (nbatch)\n",
    "for i in range(nbatch):\n",
    "    \n",
    "    xx, yy = validation_data[i]\n",
    "    \n",
    "    x = xx.detach().numpy() \n",
    "\n",
    "    y_pre.append(qrnn.predict(x)) \n",
    "    y_pos_mean.append((qrnn.posterior_mean(x)))\n",
    "       \n",
    "    y.append(yy.detach().numpy())\n",
    "    x_in.append(x)\n",
    "\n",
    "x_in = np.concatenate(x_in, axis = 0)\n",
    "y_pre = np.concatenate(y_pre, axis = 0)\n",
    "y = np.concatenate(y, axis= 0)\n",
    "y_pos_mean = np.concatenate(y_pos_mean, axis = 0)\n",
    "\n",
    "\n",
    "y_pre = np.where(y_pre > 0, y_pre + 1.0, np.exp(y_pre))\n",
    "y = np.where(y > 0, y + 1.0, np.exp(y))\n",
    "\n",
    "plt.rcParams.update({'font.size': 20})\n",
    "bins1 = np.arange(0, 300, 0.1)\n",
    "fig, ax = plt.subplots(1, 1, figsize = [8, 8])\n",
    "ax.hist(y_pre[:, imedian], bins1, density = True , histtype = \"step\", label = \"predicted\")\n",
    "\n",
    "\n",
    "ax.hist(y, bins1, density = True, histtype = \"step\", label = \"observed\")\n",
    "ax.set_yscale('log')\n",
    "ax.set_xscale('log')\n",
    "\n",
    "ax.legend()\n",
    "ax.set_ylabel(\"PDF\")\n",
    "ax.set_xlabel(\"IWP[kg/m2]\")"
   ]
  },
  {
   "cell_type": "code",
   "execution_count": null,
   "id": "specified-surface",
   "metadata": {},
   "outputs": [],
   "source": [
    "y_pre.max()"
   ]
  },
  {
   "cell_type": "code",
   "execution_count": null,
   "id": "limiting-national",
   "metadata": {},
   "outputs": [],
   "source": []
  },
  {
   "cell_type": "code",
   "execution_count": null,
   "id": "accurate-gossip",
   "metadata": {},
   "outputs": [],
   "source": [
    "import scipy\n",
    "from matplotlib import ticker, cm\n",
    "xyrange = [[0, 25], [0, 25]] # data range\n",
    "\n",
    "\n",
    "bins = [50, 50] # number of bins\n",
    "hh, locx, locy = np.histogram2d(y, y_pos_mean, \n",
    "                                range=xyrange, bins=bins, density = True)\n",
    "posx = np.digitize(y, locx)\n",
    "posy = np.digitize(y_pos_mean, locy)\n",
    "\n",
    "fig, ax = plt.subplots(1, 1, figsize = [10, 8])\n",
    "cs = ax.contourf(np.flipud(hh.T),\n",
    "                extent=np.array(xyrange).flatten(), \n",
    "            locator= ticker.LogLocator(), origin='upper')\n",
    "cbar = fig.colorbar(cs)\n",
    "ax.set_ylim([0, 20])\n",
    "ax.set_xlim([0, 20])\n",
    "xy = np.arange(0, 13, 1)\n",
    "yy = xy\n",
    "ax.plot(xy, yy)\n",
    "ax.set_ylabel(\"IWP Predicted [kg/m2]\")\n",
    "ax.set_xlabel(\"IWP Observed [kg/m2]\")\n",
    "ax.grid('on')\n",
    "#ax.set_yscale('log')\n",
    "#ax.set_xscale('log')"
   ]
  },
  {
   "cell_type": "code",
   "execution_count": null,
   "id": "cathedral-supplement",
   "metadata": {},
   "outputs": [],
   "source": [
    "bins = np.array([0.0,.0001,.00025,.0005, 0.001,.0025,.005,\n",
    "                 0.0075, 0.01, 0.025, 0.05, 0.075, .1, .25,\n",
    "                 .5, .75, 1, 2, 3, 4, 5, 6, 8, 10, 12, 16, 20, 24, 28, 32, 50])\n",
    "\n",
    "#bins = np.logspace(np.log10(0.001), np.log10(25), 500)\n",
    "iy = np.digitize((y), bins)\n",
    "iyp = np.digitize((y_pre[:, imedian]), bins)\n",
    "\n",
    "iby = np.bincount(iy, minlength = len(bins), weights = y)\n",
    "ibyp = np.bincount(iyp, minlength = len(bins), weights = y_pos_mean)\n",
    "\n",
    "niby = np.bincount(iy, minlength = len(bins))\n",
    "nibyp = np.bincount(iyp, minlength = len(bins))\n",
    "\n",
    "fig, ax = plt.subplots(1, 1, figsize = [5, 5])\n",
    "ax.plot(iby/niby, ibyp/nibyp, 'o-', linewidth = 2.5)\n",
    "\n",
    "ax.set_yscale(\"log\")\n",
    "ax.set_xscale(\"log\")\n",
    "ax.grid(\"on\")\n",
    "xx = bins\n",
    "yy = bins\n",
    "\n",
    "ax.plot(xx, yy, 'k--')"
   ]
  },
  {
   "cell_type": "code",
   "execution_count": null,
   "id": "direct-murder",
   "metadata": {},
   "outputs": [],
   "source": [
    "import torch\n",
    "\n",
    "torch.cuda.is_available()"
   ]
  },
  {
   "cell_type": "code",
   "execution_count": null,
   "id": "moderate-jaguar",
   "metadata": {},
   "outputs": [],
   "source": [
    "y_pre.max()"
   ]
  },
  {
   "cell_type": "code",
   "execution_count": null,
   "id": "successful-horse",
   "metadata": {},
   "outputs": [],
   "source": []
  }
 ],
 "metadata": {
  "kernelspec": {
   "display_name": "Python 3",
   "language": "python",
   "name": "python3"
  },
  "language_info": {
   "codemirror_mode": {
    "name": "ipython",
    "version": 3
   },
   "file_extension": ".py",
   "mimetype": "text/x-python",
   "name": "python",
   "nbconvert_exporter": "python",
   "pygments_lexer": "ipython3",
   "version": "3.7.10"
  }
 },
 "nbformat": 4,
 "nbformat_minor": 5
}
